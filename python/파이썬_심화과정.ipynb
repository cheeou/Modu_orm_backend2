{
  "nbformat": 4,
  "nbformat_minor": 0,
  "metadata": {
    "colab": {
      "provenance": []
    },
    "kernelspec": {
      "name": "python3",
      "display_name": "Python 3"
    },
    "language_info": {
      "name": "python"
    }
  },
  "cells": [
    {
      "cell_type": "markdown",
      "source": [
        "# 실력 테스트 문제"
      ],
      "metadata": {
        "id": "gDtuhCCt1q6M"
      }
    },
    {
      "cell_type": "code",
      "execution_count": null,
      "metadata": {
        "id": "pMGBixlsvEOl"
      },
      "outputs": [],
      "source": [
        "for i in range(10):\n",
        "    print(i)\n",
        "\n",
        "# for는 in 다음에 있는 객체에 __iter__를 실행시킵니다.\n",
        "# 한 번 순회가 될 때마다 __next__를 실행시켜서 다음 요소를 꺼내 in 앞에 있는 변수에 대입하게 됩니다.\n",
        "# __next__로 다음 요소를 꺼낼 수 없을 때 for는 error를 만납니다. stop iteration라는 error를 만납니다.\n",
        "# for는 error를 만나 종료되게 됩니다.\n",
        "# range는 ...\n",
        "# __len__ => len"
      ]
    },
    {
      "cell_type": "code",
      "source": [
        "i = iter('hello')"
      ],
      "metadata": {
        "id": "3SeRGDYNxAbn"
      },
      "execution_count": 1,
      "outputs": []
    },
    {
      "cell_type": "code",
      "source": [
        "next(i)"
      ],
      "metadata": {
        "colab": {
          "base_uri": "https://localhost:8080/",
          "height": 144
        },
        "id": "3bsBZaH6xGFT",
        "outputId": "c409bcff-ef8f-4e1e-dfdf-0718fd6aa9ff"
      },
      "execution_count": 7,
      "outputs": [
        {
          "output_type": "error",
          "ename": "StopIteration",
          "evalue": "",
          "traceback": [
            "\u001b[0;31m---------------------------------------------------------------------------\u001b[0m",
            "\u001b[0;31mStopIteration\u001b[0m                             Traceback (most recent call last)",
            "\u001b[0;32m<ipython-input-7-a883b34d6d8a>\u001b[0m in \u001b[0;36m<cell line: 1>\u001b[0;34m()\u001b[0m\n\u001b[0;32m----> 1\u001b[0;31m \u001b[0mnext\u001b[0m\u001b[0;34m(\u001b[0m\u001b[0mi\u001b[0m\u001b[0;34m)\u001b[0m\u001b[0;34m\u001b[0m\u001b[0;34m\u001b[0m\u001b[0m\n\u001b[0m",
            "\u001b[0;31mStopIteration\u001b[0m: "
          ]
        }
      ]
    },
    {
      "cell_type": "code",
      "source": [
        "range(10000000000000000000000000000)\n",
        "# 이렇게 했을 때 리스트인 경우와 range인 경우가 효율이 매우 다릅니다."
      ],
      "metadata": {
        "id": "uOa3JpvBxyzM"
      },
      "execution_count": null,
      "outputs": []
    },
    {
      "cell_type": "code",
      "source": [
        "# https://pythontutor.com/visualize.html\n",
        "\n",
        "class MyIterator:\n",
        "    def __init__(self, stop):\n",
        "        self.stop = stop\n",
        "\n",
        "    def __iter__(self):\n",
        "        self.currentValue = 0\n",
        "        return self\n",
        "\n",
        "    def __next__(self):\n",
        "        if self.currentValue >= self.stop:\n",
        "            raise StopIteration\n",
        "        result = self.currentValue\n",
        "        self.currentValue += 1\n",
        "        return result\n",
        "\n",
        "my_iterator = MyIterator(5)\n",
        "\n",
        "for i in my_iterator:\n",
        "    print(i)\n",
        "\n",
        "for i in my_iterator:\n",
        "    print(i)\n",
        "\n",
        "# 결국 for는 iter먼저 실행하고, next로 StopIteration\n",
        "# i = iter(li)\n",
        "# next(i)"
      ],
      "metadata": {
        "id": "VxB-daayxgsD"
      },
      "execution_count": null,
      "outputs": []
    },
    {
      "cell_type": "code",
      "source": [
        "class MyIterator:\n",
        "    def __init__(self, stop):\n",
        "        self.stop = stop\n",
        "        self.data = list(range(stop))  # 데이터를 미리 생성\n",
        "\n",
        "    def __iter__(self):\n",
        "        self.currentValue = 0\n",
        "        return self\n",
        "\n",
        "    def __next__(self):\n",
        "        if self.currentValue >= self.stop:\n",
        "            raise StopIteration\n",
        "        result = self.currentValue\n",
        "        self.currentValue += 1\n",
        "        return result\n",
        "\n",
        "    def __getitem__(self, index):\n",
        "        if isinstance(index, int):\n",
        "            if 0 <= index < self.stop:\n",
        "                return self.data[index]\n",
        "            raise IndexError(\"Index out of range\")\n",
        "        elif isinstance(index, slice):\n",
        "            return self.data[index]\n",
        "        else:\n",
        "            raise TypeError(\"Invalid argument type\")\n",
        "\n",
        "    def __len__(self):\n",
        "        return self.stop\n",
        "\n",
        "# 사용 예시\n",
        "my_iterator = MyIterator(5)\n",
        "\n",
        "# 반복자로 사용\n",
        "print(\"반복자로 사용:\")\n",
        "for i in my_iterator:\n",
        "    print(i)\n",
        "\n",
        "# 인덱싱 사용\n",
        "print(\"\\n인덱싱 사용:\")\n",
        "print(my_iterator[0])  # 0 출력\n",
        "print(my_iterator[3])  # 3 출력\n",
        "\n",
        "# 슬라이싱 사용\n",
        "print(\"\\n슬라이싱 사용:\")\n",
        "print(my_iterator[1:4])  # [1, 2, 3] 출력\n",
        "\n",
        "# 길이 확인\n",
        "print(\"\\n길이:\")\n",
        "print(len(my_iterator))  # 5 출력"
      ],
      "metadata": {
        "id": "dX70uSUsxhxf"
      },
      "execution_count": null,
      "outputs": []
    },
    {
      "cell_type": "markdown",
      "source": [
        "# 메서드 체이닝"
      ],
      "metadata": {
        "id": "QGS36-vO1oBz"
      }
    },
    {
      "cell_type": "code",
      "source": [
        "'Hello World'.replace('Hello', 'hi').lower() # 출력: hi world"
      ],
      "metadata": {
        "colab": {
          "base_uri": "https://localhost:8080/",
          "height": 35
        },
        "id": "K8rNu-0G1CBF",
        "outputId": "fbf2ee88-9692-4c7c-f717-169f86b5df5f"
      },
      "execution_count": 9,
      "outputs": [
        {
          "output_type": "execute_result",
          "data": {
            "text/plain": [
              "'hi world'"
            ],
            "application/vnd.google.colaboratory.intrinsic+json": {
              "type": "string"
            }
          },
          "metadata": {},
          "execution_count": 9
        }
      ]
    },
    {
      "cell_type": "code",
      "source": [
        "'0100101'.replace('0', ' ').replace('1', '#')"
      ],
      "metadata": {
        "id": "iBu0Cy6D1JbJ"
      },
      "execution_count": null,
      "outputs": []
    },
    {
      "cell_type": "code",
      "source": [
        "'0100101'.replace('0', ' ') # 이렇게 return된 값에 자료형에 따라 그 자료형에 메서드를 사용해야 합니다."
      ],
      "metadata": {
        "colab": {
          "base_uri": "https://localhost:8080/",
          "height": 35
        },
        "id": "e6ZUKqsK1XKU",
        "outputId": "9fb156de-4167-44f9-a541-ca541da1f30b"
      },
      "execution_count": 10,
      "outputs": [
        {
          "output_type": "execute_result",
          "data": {
            "text/plain": [
              "' 1  1 1'"
            ],
            "application/vnd.google.colaboratory.intrinsic+json": {
              "type": "string"
            }
          },
          "metadata": {},
          "execution_count": 10
        }
      ]
    },
    {
      "cell_type": "code",
      "source": [
        "s = '010.5044.2903' # 여기서 0의 갯수를 카운팅 하는데 .은 0으로 판단합니다.\n",
        "\n",
        "s.replace('.', '0').count('0')"
      ],
      "metadata": {
        "colab": {
          "base_uri": "https://localhost:8080/"
        },
        "id": "e7gH6kap1ecC",
        "outputId": "b310d417-93f7-46b1-eeac-cb40b5242b0b"
      },
      "execution_count": 14,
      "outputs": [
        {
          "output_type": "execute_result",
          "data": {
            "text/plain": [
              "6"
            ]
          },
          "metadata": {},
          "execution_count": 14
        }
      ]
    },
    {
      "cell_type": "code",
      "source": [
        "'Hello world'\\\n",
        "    .replace('Hello', 'hi')\\\n",
        "    .replace('world', 'python')\\\n",
        "    .lower()\\\n",
        "    .replace(' ', '')"
      ],
      "metadata": {
        "id": "CSgMQfO_20Lp"
      },
      "execution_count": null,
      "outputs": []
    },
    {
      "cell_type": "code",
      "source": [
        "def solution(s):\n",
        "    return s.replace('Hello', 'hi').replace('world', 'python').lower().replace(' ', '')"
      ],
      "metadata": {
        "id": "Imd-g3jn21Fp"
      },
      "execution_count": null,
      "outputs": []
    },
    {
      "cell_type": "markdown",
      "source": [
        "# 일급함수와 고차함수"
      ],
      "metadata": {
        "id": "-xuYRnH13FkI"
      }
    },
    {
      "cell_type": "code",
      "source": [
        "x = 10 # 변수 x에 10을 할당\n",
        "\n",
        "def f():\n",
        "    print('hello world')\n",
        "\n",
        "x = f # 변수 x에 f함수 할당, '일급 함수'는 함수를 마치 값처럼 취급"
      ],
      "metadata": {
        "id": "i187UnfS3Hg4"
      },
      "execution_count": null,
      "outputs": []
    },
    {
      "cell_type": "code",
      "source": [
        "# 함수를 값처럼 취급\n",
        "def add(a, b):\n",
        "    return a + b\n",
        "\n",
        "def sub(a, b):\n",
        "    return a - b\n",
        "\n",
        "def mul(a, b):\n",
        "    return a * b\n",
        "\n",
        "def div(a, b):\n",
        "    return a / b\n",
        "\n",
        "x = [add, sub, mul, div] # 값이 들어갈 수 있는 공간에 함수 이름을 다 넣어보는 것!\n",
        "x[0](1, 2)"
      ],
      "metadata": {
        "colab": {
          "base_uri": "https://localhost:8080/"
        },
        "id": "4KR8EiDR3jqV",
        "outputId": "a0cb352d-cf84-4fac-a47f-13fc24aafb2d"
      },
      "execution_count": 15,
      "outputs": [
        {
          "output_type": "execute_result",
          "data": {
            "text/plain": [
              "3"
            ]
          },
          "metadata": {},
          "execution_count": 15
        }
      ]
    },
    {
      "cell_type": "code",
      "source": [
        "# 함수를 값처럼 취급\n",
        "hojun = print\n",
        "hojun('hello world')"
      ],
      "metadata": {
        "colab": {
          "base_uri": "https://localhost:8080/"
        },
        "id": "1xer2eIx3_Jf",
        "outputId": "0bbf33d7-9dca-494e-8c51-2a1f6fd2a65e"
      },
      "execution_count": 16,
      "outputs": [
        {
          "output_type": "stream",
          "name": "stdout",
          "text": [
            "hello world\n"
          ]
        }
      ]
    },
    {
      "cell_type": "code",
      "source": [
        "# 함수를 아규먼트로 전달\n",
        "def add(a, b):\n",
        "    return a + b\n",
        "\n",
        "def hello(f):\n",
        "    return f(10, 20) + f(20, 30)\n",
        "\n",
        "hello(add)"
      ],
      "metadata": {
        "id": "0fp-QAFG4rs9"
      },
      "execution_count": null,
      "outputs": []
    },
    {
      "cell_type": "code",
      "source": [
        "# 함수를 리턴\n",
        "def f():\n",
        "    def ff():\n",
        "        print('hello')\n",
        "    return ff\n",
        "\n",
        "x = f()\n",
        "x()"
      ],
      "metadata": {
        "colab": {
          "base_uri": "https://localhost:8080/"
        },
        "id": "UHeP5FTy8By1",
        "outputId": "86ca98e3-34d6-4aa4-ea32-00adf0f2a075"
      },
      "execution_count": 17,
      "outputs": [
        {
          "output_type": "stream",
          "name": "stdout",
          "text": [
            "hello\n"
          ]
        }
      ]
    },
    {
      "cell_type": "code",
      "source": [
        "# 클로저, 파이썬에서 팩토리 함수라고도 합니다.\n",
        "# 위 원리를 이용한 것입니다.\n",
        "def f(x):\n",
        "    def ff(y):\n",
        "        return x ** y\n",
        "    return ff\n",
        "\n",
        "x = f(3)\n",
        "# 이 다음부터는 3 ** ? 인데, 3을 변경시킬 수 없습니다.\n",
        "# def ff(y):\n",
        "#     return 3 ** y\n",
        "x(2)\n",
        "\n",
        "xx = f(4)\n",
        "# 이 다음부터는 4 ** ? 인데, 4을 변경시킬 수 없습니다.\n",
        "xx(2)\n",
        "\n",
        "# point1: 원래 휘발되었어야 하는 메모리 공간이 참조로 인해 살아있게 됩니다.\n",
        "# point2: 휘발되었어야 하는 공간에 남아있는 변수는 변경 불가능한 변수로 남아있게 됩니다.\n",
        "# point3: 그리고 이 공간에 접근하는 기술을 클로저라고 합니다."
      ],
      "metadata": {
        "colab": {
          "base_uri": "https://localhost:8080/"
        },
        "id": "BC1GU5PR8WaY",
        "outputId": "a3e4bb47-9214-49f9-b84f-360726700208"
      },
      "execution_count": 19,
      "outputs": [
        {
          "output_type": "execute_result",
          "data": {
            "text/plain": [
              "16"
            ]
          },
          "metadata": {},
          "execution_count": 19
        }
      ]
    },
    {
      "cell_type": "markdown",
      "source": [
        "```python\n",
        "def login(function):\n",
        "    pass\n",
        "\n",
        "@login\n",
        "def 게시판읽기():\n",
        "    pass\n",
        "```"
      ],
      "metadata": {
        "id": "Rbe4_BZS-Xyf"
      }
    },
    {
      "cell_type": "code",
      "source": [
        "def simple_decorator(function):\n",
        "    def wrapper():\n",
        "        print(\"전\")\n",
        "        function()\n",
        "        print(\"후\")\n",
        "    return wrapper\n",
        "\n",
        "\n",
        "@simple_decorator\n",
        "def hello():\n",
        "    print(\"Hello, World!\")\n",
        "\n",
        "\n",
        "hello() # 데코레이터가 없는 상태에서는 simple_decorator(hello)() 와 같습니다."
      ],
      "metadata": {
        "colab": {
          "base_uri": "https://localhost:8080/"
        },
        "id": "JK2YqbS7-PKc",
        "outputId": "f04a3adc-8aab-4c76-8fdf-25af5ba8dfd1"
      },
      "execution_count": 21,
      "outputs": [
        {
          "output_type": "stream",
          "name": "stdout",
          "text": [
            "전\n",
            "후\n"
          ]
        }
      ]
    },
    {
      "cell_type": "code",
      "source": [
        "def simple_decorator(function):\n",
        "    def wrapper():\n",
        "        print(\"전\")\n",
        "        function()\n",
        "        print(\"후\")\n",
        "    return wrapper\n",
        "\n",
        "\n",
        "def hello():\n",
        "    print(\"Hello, World!\")\n",
        "\n",
        "\n",
        "simple_decorator(hello)()\n",
        "# 데커레이터는 syntactic suga(문법설탕)에 가깝습니다. +@의 기능이 있어서 완전한 문법설탕은 아닙니다."
      ],
      "metadata": {
        "colab": {
          "base_uri": "https://localhost:8080/"
        },
        "id": "4Chg8E1V-WPj",
        "outputId": "cce6c950-4752-40f9-9cee-9f9c17bb2400"
      },
      "execution_count": 22,
      "outputs": [
        {
          "output_type": "stream",
          "name": "stdout",
          "text": [
            "전\n",
            "Hello, World!\n",
            "후\n"
          ]
        }
      ]
    },
    {
      "cell_type": "code",
      "source": [
        "# 전처리 작업을 하고 싶다!\n",
        "# 후처리 작업을 하고 싶다!\n",
        "\n",
        "def hello():\n",
        "    pass"
      ],
      "metadata": {
        "id": "RljdR0W3_1O_"
      },
      "execution_count": 23,
      "outputs": []
    },
    {
      "cell_type": "code",
      "source": [
        "# 여기까지만 보셨을 때 데커레이터를 사용하는 이유가 어느정도 이해가 가셨으면 좋겠습니다.\n",
        "data = [1, '2', 3, '4', 5]\n",
        "\n",
        "@전처리\n",
        "def custom_sum(d):\n",
        "    return sum(d)\n",
        "\n",
        "print(custom_sum(data))"
      ],
      "metadata": {
        "colab": {
          "base_uri": "https://localhost:8080/",
          "height": 216
        },
        "id": "EBAGl8MPA4r6",
        "outputId": "2319817c-b3f1-4458-a394-33eed95123b0"
      },
      "execution_count": 25,
      "outputs": [
        {
          "output_type": "error",
          "ename": "NameError",
          "evalue": "name '전처리' is not defined",
          "traceback": [
            "\u001b[0;31m---------------------------------------------------------------------------\u001b[0m",
            "\u001b[0;31mNameError\u001b[0m                                 Traceback (most recent call last)",
            "\u001b[0;32m<ipython-input-25-f9e973ea2baf>\u001b[0m in \u001b[0;36m<cell line: 3>\u001b[0;34m()\u001b[0m\n\u001b[1;32m      1\u001b[0m \u001b[0mdata\u001b[0m \u001b[0;34m=\u001b[0m \u001b[0;34m[\u001b[0m\u001b[0;36m1\u001b[0m\u001b[0;34m,\u001b[0m \u001b[0;34m'2'\u001b[0m\u001b[0;34m,\u001b[0m \u001b[0;36m3\u001b[0m\u001b[0;34m,\u001b[0m \u001b[0;34m'4'\u001b[0m\u001b[0;34m,\u001b[0m \u001b[0;36m5\u001b[0m\u001b[0;34m]\u001b[0m\u001b[0;34m\u001b[0m\u001b[0;34m\u001b[0m\u001b[0m\n\u001b[1;32m      2\u001b[0m \u001b[0;34m\u001b[0m\u001b[0m\n\u001b[0;32m----> 3\u001b[0;31m \u001b[0;34m@\u001b[0m\u001b[0m전처리\u001b[0m\u001b[0;34m\u001b[0m\u001b[0;34m\u001b[0m\u001b[0m\n\u001b[0m\u001b[1;32m      4\u001b[0m \u001b[0;32mdef\u001b[0m \u001b[0mcustom_sum\u001b[0m\u001b[0;34m(\u001b[0m\u001b[0md\u001b[0m\u001b[0;34m)\u001b[0m\u001b[0;34m:\u001b[0m\u001b[0;34m\u001b[0m\u001b[0;34m\u001b[0m\u001b[0m\n\u001b[1;32m      5\u001b[0m     \u001b[0;32mreturn\u001b[0m \u001b[0msum\u001b[0m\u001b[0;34m(\u001b[0m\u001b[0md\u001b[0m\u001b[0;34m)\u001b[0m\u001b[0;34m\u001b[0m\u001b[0;34m\u001b[0m\u001b[0m\n",
            "\u001b[0;31mNameError\u001b[0m: name '전처리' is not defined"
          ]
        }
      ]
    },
    {
      "cell_type": "code",
      "source": [
        "# 여기까지만 보셨을 때 데커레이터를 사용하는 이유가 어느정도 이해가 가셨으면 좋겠습니다.\n",
        "data = [1, '2', 3, '4', 5]\n",
        "\n",
        "def 전처리(function):\n",
        "    def wrapper(d):\n",
        "        return function(list(map(int, d)))\n",
        "    return wrapper\n",
        "\n",
        "@전처리\n",
        "def custom_sum(d):\n",
        "    return sum(d)\n",
        "\n",
        "print(custom_sum(data))\n",
        "\n",
        "# 하나의 코드에 다 집어넣으면 되는 것 아닌가요? 아는척하는거에요? 너무 어렵게 짰어요!!\n",
        "# 가독성을 해치는 것 아닌가요?\n",
        "\n",
        "# 답: 재사용성이 크게 높아집니다.\n",
        "# 그리고 이 데커레이터가 숨겨졌을 때(추상화 되었을 때) 가독성이 그 전보다 훨씬 뛰어나집니다."
      ],
      "metadata": {
        "colab": {
          "base_uri": "https://localhost:8080/"
        },
        "id": "Ja1WqCCOBXPl",
        "outputId": "45b5d11f-52cc-45ef-c9c6-5f6d9a5d4753"
      },
      "execution_count": 26,
      "outputs": [
        {
          "output_type": "stream",
          "name": "stdout",
          "text": [
            "15\n"
          ]
        }
      ]
    },
    {
      "cell_type": "markdown",
      "source": [
        "# lambda"
      ],
      "metadata": {
        "id": "fgvSqBgID9HR"
      }
    },
    {
      "cell_type": "code",
      "source": [
        "def f(x):\n",
        "    return x ** 2\n",
        "\n",
        "f = lambda x: x ** 2"
      ],
      "metadata": {
        "id": "Ezh9VH6XCIiZ"
      },
      "execution_count": 27,
      "outputs": []
    },
    {
      "cell_type": "code",
      "source": [
        "# 이 람다가 바로 일급함수이기 때문입니다.\n",
        "# 그렇다면 람다는 무엇으로 취급되죠? 값으로 취급됩니다.\n",
        "# 그래서 람다가 쓰이는 곳은 어디인가요? 함수의 이름 값을 요하는 곳\n",
        "# 예를 들어서\n",
        "\n",
        "data = [\n",
        "    [1, 400, 'h'],\n",
        "    [2, 300, 'he'],\n",
        "    [4, 100, 'hel'],\n",
        "    [3, 200, 'hell'],\n",
        "    [5, 500, 'hello'],\n",
        "]\n",
        "\n",
        "sorted(data, key=lambda x: x[1])"
      ],
      "metadata": {
        "colab": {
          "base_uri": "https://localhost:8080/"
        },
        "id": "Ujfmnza6EDnW",
        "outputId": "dbd9ad7b-0dc4-45d7-a654-299ec33e62f6"
      },
      "execution_count": 28,
      "outputs": [
        {
          "output_type": "execute_result",
          "data": {
            "text/plain": [
              "[[4, 100, 'hel'],\n",
              " [3, 200, 'hell'],\n",
              " [2, 300, 'he'],\n",
              " [1, 400, 'h'],\n",
              " [5, 500, 'hello']]"
            ]
          },
          "metadata": {},
          "execution_count": 28
        }
      ]
    },
    {
      "cell_type": "code",
      "source": [
        "data = [\n",
        "    [1, 400, 'h'],\n",
        "    [2, 300, 'he'],\n",
        "    [4, 100, 'hel'],\n",
        "    [3, 200, 'hell'],\n",
        "    [5, 500, 'hello'],\n",
        "]\n",
        "\n",
        "def f(x):\n",
        "    return x[1]\n",
        "\n",
        "sorted(data, key=f) # lambda에 가장 큰 사용 이유는 재사용하지 않겠다!라는 것입니다."
      ],
      "metadata": {
        "colab": {
          "base_uri": "https://localhost:8080/"
        },
        "id": "X1zxk0w9E7Z8",
        "outputId": "b5504dae-d57b-40c0-9293-fe5640d4bef7"
      },
      "execution_count": 29,
      "outputs": [
        {
          "output_type": "execute_result",
          "data": {
            "text/plain": [
              "[[4, 100, 'hel'],\n",
              " [3, 200, 'hell'],\n",
              " [2, 300, 'he'],\n",
              " [1, 400, 'h'],\n",
              " [5, 500, 'hello']]"
            ]
          },
          "metadata": {},
          "execution_count": 29
        }
      ]
    },
    {
      "cell_type": "code",
      "source": [
        "data = [\n",
        "    [1, 400, 'h'],\n",
        "    [2, 300, 'he'],\n",
        "    [4, 100, 'hel'],\n",
        "    [3, 200, 'hell'],\n",
        "    [5, 500, 'hello'],\n",
        "]\n",
        "\n",
        "sorted(data, key=lambda x: len(x[2]))"
      ],
      "metadata": {
        "colab": {
          "base_uri": "https://localhost:8080/"
        },
        "id": "GGqLvjt6FUwR",
        "outputId": "dd1ee154-0777-40c2-b4ee-6a98a4312246"
      },
      "execution_count": 30,
      "outputs": [
        {
          "output_type": "execute_result",
          "data": {
            "text/plain": [
              "[[1, 400, 'h'],\n",
              " [2, 300, 'he'],\n",
              " [4, 100, 'hel'],\n",
              " [3, 200, 'hell'],\n",
              " [5, 500, 'hello']]"
            ]
          },
          "metadata": {},
          "execution_count": 30
        }
      ]
    },
    {
      "cell_type": "code",
      "source": [
        "# 1차원의 점들이 주어졌을 때, 그 중 가장 거리가 짧은 것의 쌍을 출력하는 함수를 작성하시오. (단 점들의 배열은 모두 정렬되어있다고 가정한다.)\n",
        "\n",
        "# 예를들어 S={1, 3, 4, 8, 13, 17, 20} 이 주어졌다면, 결과값은 (3, 4)가 될 것이다."
      ],
      "metadata": {
        "id": "sHZ1SLd7FyDx"
      },
      "execution_count": null,
      "outputs": []
    },
    {
      "cell_type": "code",
      "source": [
        "s = [1, 3, 4, 8, 13, 17, 20]\n",
        "ss = s[1:]\n",
        "\n",
        "list(zip(s, ss))"
      ],
      "metadata": {
        "colab": {
          "base_uri": "https://localhost:8080/"
        },
        "id": "TPb0CSuqGCS3",
        "outputId": "6482439f-6aa7-475d-daf4-fcd1bf11c82c"
      },
      "execution_count": 33,
      "outputs": [
        {
          "output_type": "execute_result",
          "data": {
            "text/plain": [
              "[(1, 3), (3, 4), (4, 8), (8, 13), (13, 17), (17, 20)]"
            ]
          },
          "metadata": {},
          "execution_count": 33
        }
      ]
    },
    {
      "cell_type": "code",
      "source": [
        "s = [1, 3, 4, 8, 13, 17, 20]\n",
        "ss = s[1:]\n",
        "\n",
        "sorted(zip(s, ss), key=lambda x: x[1]-x[0])\n",
        "# sorted(zip(s, ss), key=lambda x: x[1]-x[0])[0]"
      ],
      "metadata": {
        "colab": {
          "base_uri": "https://localhost:8080/"
        },
        "id": "9kSAjVo4GRYZ",
        "outputId": "7cd8d680-0861-4af7-90d0-61260ade7b90"
      },
      "execution_count": 35,
      "outputs": [
        {
          "output_type": "execute_result",
          "data": {
            "text/plain": [
              "[(3, 4), (1, 3), (17, 20), (4, 8), (13, 17), (8, 13)]"
            ]
          },
          "metadata": {},
          "execution_count": 35
        }
      ]
    }
  ]
}