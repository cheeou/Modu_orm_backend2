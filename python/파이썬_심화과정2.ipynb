{
  "nbformat": 4,
  "nbformat_minor": 0,
  "metadata": {
    "colab": {
      "provenance": []
    },
    "kernelspec": {
      "name": "python3",
      "display_name": "Python 3"
    },
    "language_info": {
      "name": "python"
    }
  },
  "cells": [
    {
      "cell_type": "code",
      "execution_count": null,
      "metadata": {
        "colab": {
          "base_uri": "https://localhost:8080/"
        },
        "id": "IQIDQ63TzeKg",
        "outputId": "49c8c1b5-0806-4dce-fae4-923dd0fc4244"
      },
      "outputs": [
        {
          "output_type": "execute_result",
          "data": {
            "text/plain": [
              "22"
            ]
          },
          "metadata": {},
          "execution_count": 4
        }
      ],
      "source": [
        "# 다음중 텍스트에서 숫자만 골라 모두 더하라\n",
        "# 'h1e2l3lo11wo2r3l9d'\n",
        "\n",
        "s = 'h1e2l3lo11wo2r3l9d'\n",
        "sum(map(int, filter(lambda x: x.isdigit(), 'h1e2l3lo11wo2r3l9d')))\n",
        "\n",
        "# type(s) == 'str'\n",
        "# isinstance(s, str)\n",
        "# 이 코드가 과연 좋은 코드인가?\n",
        "# filter도 순회하고, map도 순회하고, sum도 순회합니다.\n",
        "# 그래서 이런 구문을 작성하시면 다른 방법(for와 같은 방법과 비교를 해볼 필요가 있습니다.)"
      ]
    },
    {
      "cell_type": "markdown",
      "source": [
        "# args, kwargs"
      ],
      "metadata": {
        "id": "N6nWApZX2lHB"
      }
    },
    {
      "cell_type": "code",
      "source": [
        "def print_args(*args):\n",
        "    print(args) # 출력: (100, True, 'Licat')\n",
        "\n",
        "print_args(100, True, 'Licat')"
      ],
      "metadata": {
        "colab": {
          "base_uri": "https://localhost:8080/"
        },
        "id": "xZQh-iHT1q2h",
        "outputId": "83420dc6-83df-4dcc-9eb8-29bd0bc4a877"
      },
      "execution_count": null,
      "outputs": [
        {
          "output_type": "stream",
          "name": "stdout",
          "text": [
            "(100, True, 'Licat')\n"
          ]
        }
      ]
    },
    {
      "cell_type": "code",
      "source": [
        "def f(a, b, c, *args):\n",
        "    print(a, b, c)\n",
        "    print(args)\n",
        "\n",
        "f(1, 2, 3, 'abc', 'def')"
      ],
      "metadata": {
        "colab": {
          "base_uri": "https://localhost:8080/"
        },
        "id": "6rAPllC62qM2",
        "outputId": "3cf16ae7-8197-43d8-cba5-9ce0acd0aa14"
      },
      "execution_count": null,
      "outputs": [
        {
          "output_type": "stream",
          "name": "stdout",
          "text": [
            "1 2 3\n",
            "('abc', 'def')\n"
          ]
        }
      ]
    },
    {
      "cell_type": "code",
      "source": [
        "# 파선아실\n",
        "def f(a, b, *args):\n",
        "    print(a, b)\n",
        "    print(args)\n",
        "\n",
        "f(1, 2, 3, 'abc', 'def')"
      ],
      "metadata": {
        "colab": {
          "base_uri": "https://localhost:8080/"
        },
        "id": "d7ZcMXWr2__i",
        "outputId": "c5eb3f80-30df-4397-93a0-cb03ed537b3c"
      },
      "execution_count": null,
      "outputs": [
        {
          "output_type": "stream",
          "name": "stdout",
          "text": [
            "1 2\n",
            "(3, 'abc', 'def')\n"
          ]
        }
      ]
    },
    {
      "cell_type": "code",
      "source": [
        "# 언패킹\n",
        "def func(a, b, c):\n",
        "    print(a, b, c)\n",
        "\n",
        "args = (10, 20, 30)\n",
        "func(*args)\n",
        "# (10, 20, 30) => *args => 10, 20, 30"
      ],
      "metadata": {
        "colab": {
          "base_uri": "https://localhost:8080/"
        },
        "id": "6OaM6kSl3WZk",
        "outputId": "a5d05b65-594d-42c8-c137-a1c526a08ffa"
      },
      "execution_count": null,
      "outputs": [
        {
          "output_type": "stream",
          "name": "stdout",
          "text": [
            "10 20 30\n"
          ]
        }
      ]
    },
    {
      "cell_type": "code",
      "source": [
        "# 파라미터로 들어갔을 때에는 패킹을 했고\n",
        "# 아규먼트로 들어갔을 때에는 언패킹을 했습니다."
      ],
      "metadata": {
        "id": "5AdrJVuF3n8i"
      },
      "execution_count": null,
      "outputs": []
    },
    {
      "cell_type": "code",
      "source": [
        "a, b, c = range(3)\n",
        "a"
      ],
      "metadata": {
        "colab": {
          "base_uri": "https://localhost:8080/"
        },
        "id": "wsZoGiAI30Ys",
        "outputId": "ccb006b1-a6fa-42df-c655-8c09b3c67d45"
      },
      "execution_count": null,
      "outputs": [
        {
          "output_type": "execute_result",
          "data": {
            "text/plain": [
              "0"
            ]
          },
          "metadata": {},
          "execution_count": 10
        }
      ]
    },
    {
      "cell_type": "code",
      "source": [
        "def f(a, **kwargs):\n",
        "    print(a)\n",
        "    print(kwargs)\n",
        "\n",
        "f(100, name='Licat', age='10')\n",
        "# 키워드 아규먼트는 파라미터로 들어갔을 때 key와 value의 쌍을 dict로 패킹"
      ],
      "metadata": {
        "colab": {
          "base_uri": "https://localhost:8080/"
        },
        "id": "rbctA9sL39Mu",
        "outputId": "debeeebe-798d-470b-dff5-c9134ac30d36"
      },
      "execution_count": null,
      "outputs": [
        {
          "output_type": "stream",
          "name": "stdout",
          "text": [
            "100\n",
            "{'name': 'Licat', 'age': '10'}\n"
          ]
        }
      ]
    },
    {
      "cell_type": "code",
      "source": [
        "data = [\n",
        "    {\n",
        "        'name': 'Licat',\n",
        "        'age': 3\n",
        "    },\n",
        "    {\n",
        "        'name': 'John',\n",
        "        'age': 7\n",
        "    },\n",
        "    {\n",
        "        'name': 'Jane',\n",
        "        'age': 4\n",
        "    }\n",
        "]\n",
        "sorted(data, key=lambda x: x['age'], reverse=True)\n",
        "sorted(data, reverse=True, key=lambda x: x['age'])\n",
        "# sorted(reverse=True, key=lambda x: x['age'], data) # error"
      ],
      "metadata": {
        "colab": {
          "base_uri": "https://localhost:8080/"
        },
        "id": "0FVqHFtE4GC1",
        "outputId": "a1acf525-36ce-4fad-f91b-5d5bf6b14a69"
      },
      "execution_count": null,
      "outputs": [
        {
          "output_type": "execute_result",
          "data": {
            "text/plain": [
              "[{'name': 'John', 'age': 7},\n",
              " {'name': 'Jane', 'age': 4},\n",
              " {'name': 'Licat', 'age': 3}]"
            ]
          },
          "metadata": {},
          "execution_count": 19
        }
      ]
    },
    {
      "cell_type": "code",
      "source": [
        "def f(*args, **kwargs):\n",
        "    print(args)\n",
        "    print(kwargs)\n",
        "\n",
        "f(100, name='Licat', age='10')\n",
        "f(100, 200, name='Licat', age='10')\n",
        "# f(100, name='Licat', 100, age='10') #error"
      ],
      "metadata": {
        "colab": {
          "base_uri": "https://localhost:8080/"
        },
        "id": "BUmevmKo4uEP",
        "outputId": "782042c3-d77b-40ab-ed4f-780792dcc315"
      },
      "execution_count": null,
      "outputs": [
        {
          "output_type": "stream",
          "name": "stdout",
          "text": [
            "(100,)\n",
            "{'name': 'Licat', 'age': '10'}\n",
            "(100, 200)\n",
            "{'name': 'Licat', 'age': '10'}\n"
          ]
        }
      ]
    },
    {
      "cell_type": "code",
      "source": [
        "one, two, *three = 1, 2, 3, 4, 5\n",
        "print(one, two, three)"
      ],
      "metadata": {
        "colab": {
          "base_uri": "https://localhost:8080/"
        },
        "id": "MbC0gJwi5MIo",
        "outputId": "447e9611-1a18-4c93-90d9-8aeac0a71a0a"
      },
      "execution_count": null,
      "outputs": [
        {
          "output_type": "stream",
          "name": "stdout",
          "text": [
            "1 2 [3, 4, 5]\n"
          ]
        }
      ]
    },
    {
      "cell_type": "code",
      "source": [
        "a, b, *c = 'hello world'\n",
        "c"
      ],
      "metadata": {
        "colab": {
          "base_uri": "https://localhost:8080/"
        },
        "id": "axA4ZdTG5hZr",
        "outputId": "31847b20-40fa-43da-dc8b-858f93e2018c"
      },
      "execution_count": null,
      "outputs": [
        {
          "output_type": "execute_result",
          "data": {
            "text/plain": [
              "['l', 'l', 'o', ' ', 'w', 'o', 'r', 'l', 'd']"
            ]
          },
          "metadata": {},
          "execution_count": 21
        }
      ]
    },
    {
      "cell_type": "code",
      "source": [
        "# 이것은 되는데\n",
        "a = 1, 2, 3, 4, 5, 6\n",
        "a\n",
        "\n",
        "i,j,*k,l = a\n",
        "\n",
        "print(i)\n",
        "print(j)\n",
        "print(k)\n",
        "print(l)"
      ],
      "metadata": {
        "colab": {
          "base_uri": "https://localhost:8080/"
        },
        "id": "JxyWzgu86OIQ",
        "outputId": "4fb26e4f-b1e5-432d-ea6c-8a5bb26c6e86"
      },
      "execution_count": null,
      "outputs": [
        {
          "output_type": "stream",
          "name": "stdout",
          "text": [
            "1\n",
            "2\n",
            "[3, 4, 5]\n",
            "6\n"
          ]
        }
      ]
    },
    {
      "cell_type": "code",
      "source": [
        "# 이것은 왜 안되는지\n",
        "# 파선아실\n",
        "def f(a, b, *args, c):\n",
        "    print(a, b)\n",
        "    print(args)\n",
        "    print(c)\n",
        "f(1, 2, 3, 'abc', 'def', 4)"
      ],
      "metadata": {
        "colab": {
          "base_uri": "https://localhost:8080/",
          "height": 182
        },
        "id": "nU5WyA0C7Nt1",
        "outputId": "c0ea89f4-9d61-4811-9385-298c5ce1a30f"
      },
      "execution_count": null,
      "outputs": [
        {
          "output_type": "error",
          "ename": "TypeError",
          "evalue": "f() missing 1 required keyword-only argument: 'c'",
          "traceback": [
            "\u001b[0;31m---------------------------------------------------------------------------\u001b[0m",
            "\u001b[0;31mTypeError\u001b[0m                                 Traceback (most recent call last)",
            "\u001b[0;32m<ipython-input-24-5c70b960c7fb>\u001b[0m in \u001b[0;36m<cell line: 6>\u001b[0;34m()\u001b[0m\n\u001b[1;32m      4\u001b[0m     \u001b[0mprint\u001b[0m\u001b[0;34m(\u001b[0m\u001b[0margs\u001b[0m\u001b[0;34m)\u001b[0m\u001b[0;34m\u001b[0m\u001b[0;34m\u001b[0m\u001b[0m\n\u001b[1;32m      5\u001b[0m     \u001b[0mprint\u001b[0m\u001b[0;34m(\u001b[0m\u001b[0mc\u001b[0m\u001b[0;34m)\u001b[0m\u001b[0;34m\u001b[0m\u001b[0;34m\u001b[0m\u001b[0m\n\u001b[0;32m----> 6\u001b[0;31m \u001b[0mf\u001b[0m\u001b[0;34m(\u001b[0m\u001b[0;36m1\u001b[0m\u001b[0;34m,\u001b[0m \u001b[0;36m2\u001b[0m\u001b[0;34m,\u001b[0m \u001b[0;36m3\u001b[0m\u001b[0;34m,\u001b[0m \u001b[0;34m'abc'\u001b[0m\u001b[0;34m,\u001b[0m \u001b[0;34m'def'\u001b[0m\u001b[0;34m,\u001b[0m\u001b[0;36m4\u001b[0m\u001b[0;34m)\u001b[0m\u001b[0;34m\u001b[0m\u001b[0;34m\u001b[0m\u001b[0m\n\u001b[0m",
            "\u001b[0;31mTypeError\u001b[0m: f() missing 1 required keyword-only argument: 'c'"
          ]
        }
      ]
    },
    {
      "cell_type": "code",
      "source": [
        "# PEP 3102 여기서 승인되었습니다.\n",
        "\n",
        "def func(a, b, *, c, d):\n",
        "    print(a, b, c, d)\n",
        "\n",
        "func(1, 2, c=3, d=4)  # 올바른 예시\n",
        "# func(1, 2, 3, 4)    # 잘못된 예시\n",
        "\n",
        "def f(a, b, *args, c):\n",
        "    print(a, b)\n",
        "    print(args)\n",
        "    print(c)\n",
        "f(1, 2, 3, 'abc', 'def', c=4)\n",
        "# 뒤에 인자가 어느 값에 들어가는지에 대한 명확성을 확보하고자"
      ],
      "metadata": {
        "colab": {
          "base_uri": "https://localhost:8080/"
        },
        "id": "waCBNaw_AkWO",
        "outputId": "7d8187c7-a2e8-43e8-81f1-9e0ac5805a51"
      },
      "execution_count": null,
      "outputs": [
        {
          "output_type": "stream",
          "name": "stdout",
          "text": [
            "1 2 3 4\n",
            "1 2\n",
            "(3, 'abc', 'def')\n",
            "4\n"
          ]
        }
      ]
    },
    {
      "cell_type": "code",
      "source": [
        "def f(i, j, *k, l):\n",
        "    print(i)\n",
        "    print(j)\n",
        "    print(k)\n",
        "    print(l)\n",
        "f(1, 2, 3, 4, 5, l=6)"
      ],
      "metadata": {
        "colab": {
          "base_uri": "https://localhost:8080/"
        },
        "id": "3MVkYoSACA-G",
        "outputId": "ad2cce60-7bb7-4e9e-e490-216bea0b485d"
      },
      "execution_count": null,
      "outputs": [
        {
          "output_type": "stream",
          "name": "stdout",
          "text": [
            "1\n",
            "2\n",
            "(3, 4, 5)\n",
            "6\n"
          ]
        }
      ]
    },
    {
      "cell_type": "markdown",
      "source": [
        "# 이터레이터와 제너레이터"
      ],
      "metadata": {
        "id": "q3W5ZOOe7v9L"
      }
    },
    {
      "cell_type": "code",
      "source": [
        "# 필요성: 제너레이터는 간혹 사용합니다.\n",
        "# 이터레이터는 직접 만들일이 많이 있진 않습니다.\n",
        "def g():\n",
        "    yield '홀'\n",
        "    yield '짝'\n",
        "    yield '홀'\n",
        "    yield '짝'\n",
        "    yield '홀'\n",
        "    yield '짝'\n",
        "    yield '홀'\n",
        "    yield '짝'\n",
        "    yield '홀'\n",
        "    yield '짝'\n",
        "    yield '홀'\n",
        "    yield '짝'\n",
        "list(zip([1, 2, 3, 4, 5, 6], g()))"
      ],
      "metadata": {
        "colab": {
          "base_uri": "https://localhost:8080/"
        },
        "id": "rT_OqHkb7h9i",
        "outputId": "5918f2f1-232d-4c9d-c388-f314ed408c82"
      },
      "execution_count": null,
      "outputs": [
        {
          "output_type": "execute_result",
          "data": {
            "text/plain": [
              "[(1, '홀'), (2, '짝'), (3, '홀'), (4, '짝'), (5, '홀'), (6, '짝')]"
            ]
          },
          "metadata": {},
          "execution_count": 26
        }
      ]
    },
    {
      "cell_type": "code",
      "source": [
        "class MyIterator:\n",
        "    def __init__(self, stop):\n",
        "        self.current_value = 0  # 현재 값\n",
        "        self.stop = stop  # 순회를 멈출 값\n",
        "\n",
        "    def __iter__(self):\n",
        "        return self\n",
        "\n",
        "    def __next__(self):\n",
        "        if self.current_value >= self.stop:\n",
        "            raise StopIteration\n",
        "        result = self.current_value\n",
        "        self.current_value += 1\n",
        "        return result\n",
        "\n",
        "my_iterator = MyIterator(5)\n",
        "\n",
        "for i in my_iterator:\n",
        "    print(i)\n",
        "\n",
        "for i in my_iterator:\n",
        "    print(i)\n",
        "\n",
        "for i in my_iterator:\n",
        "    print(i)"
      ],
      "metadata": {
        "colab": {
          "base_uri": "https://localhost:8080/"
        },
        "id": "pj_S0AIi8lj6",
        "outputId": "872e9ea5-1a77-4b94-e01b-2a06189fa7ec"
      },
      "execution_count": null,
      "outputs": [
        {
          "output_type": "stream",
          "name": "stdout",
          "text": [
            "0\n",
            "1\n",
            "2\n",
            "3\n",
            "4\n"
          ]
        }
      ]
    },
    {
      "cell_type": "code",
      "source": [
        "s = zip([1, 2, 3, 4], [10, 20, 30, 40])\n",
        "s\n",
        "\n",
        "for i in s:\n",
        "    print(i)\n",
        "\n",
        "for i in s:\n",
        "    print(i)\n",
        "\n",
        "for i in s:\n",
        "    print(i)"
      ],
      "metadata": {
        "colab": {
          "base_uri": "https://localhost:8080/"
        },
        "id": "JE2NDvh69btE",
        "outputId": "95a9520e-1154-44e4-fdd9-56baebfac8c6"
      },
      "execution_count": null,
      "outputs": [
        {
          "output_type": "stream",
          "name": "stdout",
          "text": [
            "(1, 10)\n",
            "(2, 20)\n",
            "(3, 30)\n",
            "(4, 40)\n"
          ]
        }
      ]
    },
    {
      "cell_type": "code",
      "source": [
        "class MyIterator:\n",
        "    def __init__(self, stop):\n",
        "        self.stop = stop\n",
        "\n",
        "    def __iter__(self):\n",
        "        self.current_value = 0  # __iter__에서 초기화\n",
        "        return self\n",
        "\n",
        "    def __next__(self):\n",
        "        if self.current_value >= self.stop:\n",
        "            raise StopIteration\n",
        "        result = self.current_value\n",
        "        self.current_value += 1\n",
        "        return result\n",
        "\n",
        "my_iterator = MyIterator(5)\n",
        "\n",
        "for i in my_iterator:\n",
        "    print(i)\n",
        "\n",
        "for i in my_iterator:\n",
        "    print(i)\n",
        "\n",
        "for i in my_iterator:\n",
        "    print(i)"
      ],
      "metadata": {
        "colab": {
          "base_uri": "https://localhost:8080/"
        },
        "id": "BXkgia_sBkUu",
        "outputId": "18b2dc67-c527-4298-f35d-06820daa986b"
      },
      "execution_count": null,
      "outputs": [
        {
          "output_type": "stream",
          "name": "stdout",
          "text": [
            "0\n",
            "1\n",
            "2\n",
            "3\n",
            "4\n",
            "0\n",
            "1\n",
            "2\n",
            "3\n",
            "4\n",
            "0\n",
            "1\n",
            "2\n",
            "3\n",
            "4\n"
          ]
        }
      ]
    },
    {
      "cell_type": "code",
      "source": [
        "def g():\n",
        "    yield '홀'\n",
        "    yield '짝'\n",
        "    yield '홀'\n",
        "    yield '짝'\n",
        "list(zip([1, 2, 3, 4], g(), 'hello'))"
      ],
      "metadata": {
        "colab": {
          "base_uri": "https://localhost:8080/"
        },
        "id": "1hhFf88FDY2O",
        "outputId": "d51ed239-2229-414b-a448-a8d3a30c6b0e"
      },
      "execution_count": null,
      "outputs": [
        {
          "output_type": "execute_result",
          "data": {
            "text/plain": [
              "[(1, '홀'), (2, '짝'), (3, '홀'), (4, '짝')]"
            ]
          },
          "metadata": {},
          "execution_count": 36
        }
      ]
    },
    {
      "cell_type": "code",
      "source": [
        "def g():\n",
        "    while True:\n",
        "        yield '홀'\n",
        "        yield '짝'\n",
        "\n",
        "list(zip([1, 2, 3, 4, 5, 6, 7, 8, 9, 10], g()))"
      ],
      "metadata": {
        "colab": {
          "base_uri": "https://localhost:8080/"
        },
        "id": "-vrd2PAXD4y7",
        "outputId": "098a2d77-ee9d-4eb0-89de-4daf4bc3a80b"
      },
      "execution_count": null,
      "outputs": [
        {
          "output_type": "execute_result",
          "data": {
            "text/plain": [
              "[(1, '홀'),\n",
              " (2, '짝'),\n",
              " (3, '홀'),\n",
              " (4, '짝'),\n",
              " (5, '홀'),\n",
              " (6, '짝'),\n",
              " (7, '홀'),\n",
              " (8, '짝'),\n",
              " (9, '홀'),\n",
              " (10, '짝')]"
            ]
          },
          "metadata": {},
          "execution_count": 38
        }
      ]
    },
    {
      "cell_type": "code",
      "source": [
        "def g():\n",
        "    yield '홀'\n",
        "    yield '짝'\n",
        "    yield '홀'\n",
        "    yield '짝'\n",
        "\n",
        "for i in g():\n",
        "    print(i)"
      ],
      "metadata": {
        "colab": {
          "base_uri": "https://localhost:8080/"
        },
        "id": "jG87PFICE35k",
        "outputId": "df09281f-d7ad-4512-ddf7-2288fdbda801"
      },
      "execution_count": null,
      "outputs": [
        {
          "output_type": "stream",
          "name": "stdout",
          "text": [
            "홀\n",
            "짝\n",
            "홀\n",
            "짝\n"
          ]
        }
      ]
    },
    {
      "cell_type": "code",
      "source": [
        "# 다음과 같은 자료형이 있습니다.\n",
        "# A학점 10명\n",
        "# B학점 15명\n",
        "# C학점 20명\n",
        "# F학점 나머지\n",
        "\n",
        "import random as r\n",
        "\n",
        "data = [r.randint(0, 100) for i in range(100)]\n",
        "data\n",
        "\n",
        "# 이 데이터를 가지고 아래와 같은 형태를 만들어주세요.\n",
        "# 제너레이터를 활용해주세요.\n",
        "\n",
        "# data = [\n",
        "#     [37, 'A'],\n",
        "#     [27, 'B'],\n",
        "#     [17, 'C'],\n",
        "#     ]"
      ],
      "metadata": {
        "id": "Qtkf1-wvFnGE"
      },
      "execution_count": null,
      "outputs": []
    },
    {
      "cell_type": "code",
      "source": [
        "def g():\n",
        "    for i in range(10):\n",
        "        yield 'A'\n",
        "    for i in range(15):\n",
        "        yield 'B'\n",
        "    for i in range(20):\n",
        "        yield 'C'\n",
        "    while True:\n",
        "        yield 'F'\n",
        "\n",
        "list(zip(sorted(data, reverse=True), g()))"
      ],
      "metadata": {
        "id": "aZRO96j8HjBm"
      },
      "execution_count": null,
      "outputs": []
    },
    {
      "cell_type": "markdown",
      "source": [
        "# nonlocal"
      ],
      "metadata": {
        "id": "nPMgzbFIFfk2"
      }
    },
    {
      "cell_type": "code",
      "source": [
        "# nonlocal\n",
        "a = 10\n",
        "def f():\n",
        "    a = 100\n",
        "    print(f'f a: {a}')\n",
        "    def ff():\n",
        "        a = 1000\n",
        "        print(f'ff a: {a}')\n",
        "        def fff():\n",
        "            nonlocal a # global a로 변경해보세요.\n",
        "            a = 10000\n",
        "            print(f'fff a: {a}')\n",
        "        fff()\n",
        "        print(f'ff a: {a}')\n",
        "    ff()\n",
        "f()\n",
        "print(f'global a: {a}')"
      ],
      "metadata": {
        "colab": {
          "base_uri": "https://localhost:8080/"
        },
        "id": "RcIHDYgBFgrn",
        "outputId": "16b3ab3b-5919-45c1-c45a-43115e5a3607"
      },
      "execution_count": null,
      "outputs": [
        {
          "output_type": "stream",
          "name": "stdout",
          "text": [
            "f a: 100\n",
            "ff a: 1000\n",
            "fff a: 10000\n",
            "ff a: 10000\n",
            "global a: 10\n"
          ]
        }
      ]
    },
    {
      "cell_type": "code",
      "source": [
        "# nonlocal\n",
        "a = 10\n",
        "def f():\n",
        "    a = 100\n",
        "    print(f'f a: {a}')\n",
        "    def ff():\n",
        "        a = 1000\n",
        "        print(f'ff a: {a}')\n",
        "        def fff():\n",
        "            global a # global a로 변경해보세요.\n",
        "            a = 10000\n",
        "            print(f'fff a: {a}')\n",
        "        fff()\n",
        "        print(f'ff a: {a}')\n",
        "    ff()\n",
        "f()\n",
        "print(f'global a: {a}')"
      ],
      "metadata": {
        "colab": {
          "base_uri": "https://localhost:8080/"
        },
        "id": "EIR4L4XiI2sN",
        "outputId": "f6e028d6-5b9d-4888-9d39-5230c5f166df"
      },
      "execution_count": null,
      "outputs": [
        {
          "output_type": "stream",
          "name": "stdout",
          "text": [
            "f a: 100\n",
            "ff a: 1000\n",
            "fff a: 10000\n",
            "ff a: 1000\n",
            "global a: 10000\n"
          ]
        }
      ]
    },
    {
      "cell_type": "code",
      "source": [
        "d = {'a': 1, 'b': 2, 'c': 3}\n",
        "print(d) #\n",
        "d #"
      ],
      "metadata": {
        "colab": {
          "base_uri": "https://localhost:8080/"
        },
        "id": "ACYMmwZMLe0p",
        "outputId": "641ea1b4-63f6-4d82-d9f9-f817f854a468"
      },
      "execution_count": null,
      "outputs": [
        {
          "output_type": "stream",
          "name": "stdout",
          "text": [
            "{'a': 1, 'b': 2, 'c': 3}\n"
          ]
        },
        {
          "output_type": "execute_result",
          "data": {
            "text/plain": [
              "{'a': 1, 'b': 2, 'c': 3}"
            ]
          },
          "metadata": {},
          "execution_count": 52
        }
      ]
    },
    {
      "cell_type": "code",
      "source": [
        "class A:\n",
        "    def __str__(self):\n",
        "        return 'hello'\n",
        "\n",
        "    def __repr__(self):\n",
        "        return 'world'\n",
        "\n",
        "a = A()\n",
        "print(a) # __str__\n",
        "a # __repr__\n",
        "\n",
        "# 그래서, 나중에 Django 디버깅 할 때 print를 해서 출력한 것과\n",
        "# 터미널에서 바로 값을 찍어본 것이 다르게 나오는 경우도 있습니다!"
      ],
      "metadata": {
        "colab": {
          "base_uri": "https://localhost:8080/"
        },
        "id": "Xbguq_3JLv3K",
        "outputId": "4c78b2b9-d104-4b2c-d201-17de41ff7cbb"
      },
      "execution_count": null,
      "outputs": [
        {
          "output_type": "stream",
          "name": "stdout",
          "text": [
            "hello\n"
          ]
        },
        {
          "output_type": "execute_result",
          "data": {
            "text/plain": [
              "world"
            ]
          },
          "metadata": {},
          "execution_count": 54
        }
      ]
    },
    {
      "cell_type": "code",
      "source": [
        "class A:\n",
        "    def __eq__(self, other):\n",
        "        return True\n",
        "\n",
        "a = A()\n",
        "b = A()\n",
        "a == b\n",
        "a == None"
      ],
      "metadata": {
        "colab": {
          "base_uri": "https://localhost:8080/"
        },
        "id": "PMzB_IX8O5ej",
        "outputId": "bd4ba03f-a018-45cd-f29f-ed28a035e8b8"
      },
      "execution_count": null,
      "outputs": [
        {
          "output_type": "execute_result",
          "data": {
            "text/plain": [
              "True"
            ]
          },
          "metadata": {},
          "execution_count": 58
        }
      ]
    },
    {
      "cell_type": "code",
      "source": [
        "a is None"
      ],
      "metadata": {
        "colab": {
          "base_uri": "https://localhost:8080/"
        },
        "id": "tZLlwA33PLzo",
        "outputId": "64676a1a-37b3-4071-e1ca-fb20935bcca5"
      },
      "execution_count": null,
      "outputs": [
        {
          "output_type": "execute_result",
          "data": {
            "text/plain": [
              "False"
            ]
          },
          "metadata": {},
          "execution_count": 59
        }
      ]
    },
    {
      "cell_type": "markdown",
      "source": [
        "# 파일 입출력"
      ],
      "metadata": {
        "id": "H7B5R1WHRxsR"
      }
    },
    {
      "cell_type": "code",
      "source": [
        "f = open('student.txt', 'w')\n",
        "l = ['licat', 'mura', 'binky']\n",
        "s = ''\n",
        "for i, j in enumerate(l, 1):\n",
        "    s += f'{i}번 {j}입니다.'\n",
        "f.write(s)\n",
        "f.close()"
      ],
      "metadata": {
        "id": "mRtByQkfRzZj"
      },
      "execution_count": null,
      "outputs": []
    },
    {
      "cell_type": "code",
      "source": [
        "f = open('student.txt', 'w')\n",
        "l = ['licat', 'mura', 'binky']\n",
        "s = ''\n",
        "for i, j in enumerate(l, 1):\n",
        "    s += f'{i}번 {j}입니다.\\n'\n",
        "f.write(s)\n",
        "f.close()"
      ],
      "metadata": {
        "id": "TIuj9fbQSVyj"
      },
      "execution_count": null,
      "outputs": []
    },
    {
      "cell_type": "code",
      "source": [
        "f = open('student.csv', 'w')\n",
        "l = ['licat', 'mura', 'binky']\n",
        "s = ''\n",
        "for i, j in enumerate(l, 1):\n",
        "    s += f'{i}번 {j}입니다,'\n",
        "f.write(s)\n",
        "f.close()"
      ],
      "metadata": {
        "id": "9fozM7sKSmJC"
      },
      "execution_count": null,
      "outputs": []
    },
    {
      "cell_type": "code",
      "source": [
        "# 그렇다면 엑셀을 좀 더 세밀하게 컨트롤해서 출력할 수 있지 않을까?\n",
        "# 또는 한글을 읽어서 무언가 할 수 있지 않을까?\n",
        "# https://youtu.be/JBpXDx2oojk"
      ],
      "metadata": {
        "id": "snZvuqIhSyIG"
      },
      "execution_count": null,
      "outputs": []
    },
    {
      "cell_type": "code",
      "source": [
        "f = open('index.html', 'w')\n",
        "s = '''<html>\n",
        "<head>\n",
        "</head>\n",
        "<body>\n",
        "<h1>hello world</h1>\n",
        "</body>\n",
        "</html>\n",
        "'''\n",
        "f.write(s)\n",
        "f.close()"
      ],
      "metadata": {
        "id": "jqKNPpkqTgNh"
      },
      "execution_count": null,
      "outputs": []
    },
    {
      "cell_type": "code",
      "source": [
        "# 백엔드 없이\n",
        "# python으로 주기적으로 html을 생성해서 page를 만들 수도 있습니다."
      ],
      "metadata": {
        "id": "nhSITAegThOm"
      },
      "execution_count": null,
      "outputs": []
    },
    {
      "cell_type": "code",
      "source": [
        "# 쉬운예제\n",
        "f = open('student.csv', 'w')\n",
        "s = '''학년,반,번,이름\n",
        "1,3,1,licat\n",
        "1,3,2,mura\n",
        "1,3,3,binky\n",
        "'''\n",
        "f.write(s)\n",
        "f.close()"
      ],
      "metadata": {
        "id": "TyrptTemT8VO"
      },
      "execution_count": null,
      "outputs": []
    },
    {
      "cell_type": "code",
      "source": [
        "f = open('student.txt', 'r')\n",
        "data = f.read()\n",
        "print(data)\n",
        "f.close()"
      ],
      "metadata": {
        "colab": {
          "base_uri": "https://localhost:8080/"
        },
        "id": "7rGKRSqFT81t",
        "outputId": "7d22ff92-fd56-4258-ce3f-8729744bb038"
      },
      "execution_count": null,
      "outputs": [
        {
          "output_type": "stream",
          "name": "stdout",
          "text": [
            "1번 licat입니다.\n",
            "2번 mura입니다.\n",
            "3번 binky입니다.\n",
            "\n"
          ]
        }
      ]
    },
    {
      "cell_type": "code",
      "source": [
        "import requests\n",
        "from bs4 import BeautifulSoup\n",
        "\n",
        "data = requests.get('https://paullab.co.kr/bookservice/')\n",
        "soup = BeautifulSoup(data.text, 'html.parser')\n",
        "soup"
      ],
      "metadata": {
        "colab": {
          "base_uri": "https://localhost:8080/"
        },
        "id": "xb5OhjBIUQDP",
        "outputId": "d2f3d0ac-8336-4161-df87-6ebec22fa247"
      },
      "execution_count": null,
      "outputs": [
        {
          "output_type": "execute_result",
          "data": {
            "text/plain": [
              "<!DOCTYPE html>\n",
              "\n",
              "<html lang=\"ko\">\n",
              "<head>\n",
              "<meta charset=\"utf-8\"/>\n",
              "<meta content=\"IE=edge\" http-equiv=\"X-UA-Compatible\"/>\n",
              "<meta content=\"width=device-width, initial-scale=1\" name=\"viewport\"/>\n",
              "<meta content=\"\" name=\"description\"/>\n",
              "<meta content=\"\" name=\"author\"/>\n",
              "<title>BookService</title>\n",
              "<!-- Bootstrap Core CSS -->\n",
              "<link href=\"css/bootstrap.min.css\" rel=\"stylesheet\"/>\n",
              "<!-- Custom CSS -->\n",
              "<link href=\"css/clean-blog.min.css\" rel=\"stylesheet\"/>\n",
              "<!-- Custom Fonts -->\n",
              "<link href=\"http://maxcdn.bootstrapcdn.com/font-awesome/4.1.0/css/font-awesome.min.css\" rel=\"stylesheet\" type=\"text/css\"/>\n",
              "<link href=\"http://fonts.googleapis.com/css?family=Lora:400,700,400italic,700italic\" rel=\"stylesheet\" type=\"text/css\"/>\n",
              "<link href=\"http://fonts.googleapis.com/css?family=Open+Sans:300italic,400italic,600italic,700italic,800italic,400,300,600,700,800\" rel=\"stylesheet\" type=\"text/css\"/>\n",
              "<!-- favicon -->\n",
              "<link href=\"../favicon.ico\" rel=\"shortcut icon\"/>\n",
              "<!-- HTML5 Shim and Respond.js IE8 support of HTML5 elements and media queries -->\n",
              "<!-- WARNING: Respond.js doesn't work if you view the page via file:// -->\n",
              "<!--[if lt IE 9]>\n",
              "        <script src=\"https://oss.maxcdn.com/libs/html5shiv/3.7.0/html5shiv.js\"></script>\n",
              "        <script src=\"https://oss.maxcdn.com/libs/respond.js/1.4.2/respond.min.js\"></script>\n",
              "    <![endif]-->\n",
              "<style>\n",
              "\t\t.some-class-name.navbar-custom .dropdown-menu  li a {\n",
              "\t\t  color:#888686;\n",
              "\t\t}\n",
              "\n",
              "\t\t.some-class-name.navbar-custom .dropdown-menu  li a:hover,\n",
              "\t\t.some-class-name.navbar-custom .dropdown-menu  li a:focus,\n",
              "\t\t.some-class-name.navbar-custom .dropdown-menu  li a:active,\n",
              "\t\t.some-class-name.navbar-custom .dropdown-menu  li a.active {\n",
              "\t\t  color:#fff;\n",
              "\t\t}\n",
              "\n",
              "\t\t.profile {\n",
              "\t\t\ttext-align: center;\n",
              "\t\t\tfont-family: 'Lora';\n",
              "\t\t\tmargin-bottom: 20px;\n",
              "\t\t}\n",
              "\n",
              "\t\t.profile img {\n",
              "\t\t\tpadding: 10px;\n",
              "\t\t}\n",
              "\n",
              "\t\t.profile #borderneeded {\n",
              "\t\t\tborder-top: 2px solid black;\n",
              "\t\t}\n",
              "\n",
              "\t\t.profile-container {\n",
              "\t\t\tmargin-top: 130px;\n",
              "\t\t}\n",
              "\n",
              "    .home:hover {\n",
              "      color: #ffffff;\n",
              "      text-decoration: none;\n",
              "    }\n",
              "    .navbar-brand img {\n",
              "        margin-top: -10px;\n",
              "        width: 40px;\n",
              "    }\n",
              "\n",
              "    .footer_logo {\n",
              "        width: 100px;\n",
              "    }\n",
              "\n",
              "\t  </style>\n",
              "</head>\n",
              "<body>\n",
              "<!-- Navigation -->\n",
              "<nav class=\"navbar navbar-default some-class-name navbar-custom navbar-fixed-top\">\n",
              "<div class=\"container-fluid\">\n",
              "<!-- Brand and toggle get grouped for better mobile display -->\n",
              "<div class=\"navbar-header page-scroll\">\n",
              "<button class=\"navbar-toggle\" data-target=\"#bs-example-navbar-collapse-1\" data-toggle=\"collapse\" type=\"button\">\n",
              "<span class=\"sr-only\">Toggle navigation</span>\n",
              "<span class=\"icon-bar\"></span>\n",
              "<span class=\"icon-bar\"></span>\n",
              "<span class=\"icon-bar\"></span>\n",
              "</button>\n",
              "<a class=\"navbar-brand\" href=\"https://www.paullab.co.kr\">\n",
              "<img align=\"left\" src=\"img/logo_weniv.png\" style=\"cursor: pointer;\" width=\"50px\"/>\n",
              "</a>\n",
              "</div>\n",
              "<!-- Collect the nav links, forms, and other content for toggling -->\n",
              "<div class=\"collapse navbar-collapse\" id=\"bs-example-navbar-collapse-1\">\n",
              "<ul class=\"nav navbar-nav navbar-right\">\n",
              "<li>\n",
              "<a href=\"index.html\"> Home </a>\n",
              "</li>\n",
              "<li>\n",
              "<!-- <a href=\"about.html\"> About </a> -->\n",
              "<a href=\"https://www.paullab.co.kr/about.html\"> About </a>\n",
              "</li>\n",
              "<li>\n",
              "<!-- <a href=\"roadmap.html\"> Roadmap </a> -->\n",
              "<a href=\"https://www.paullab.co.kr/curriculum.html\"> Roadmap </a>\n",
              "</li>\n",
              "<li class=\"dropdown\">\n",
              "<a class=\"dropdown-toggle\" data-toggle=\"dropdown\" href=\"#\">Book<b class=\"caret\"></b></a>\n",
              "<ul class=\"dropdown-menu\">\n",
              "<li>\n",
              "<a href=\"https://ridibooks.com/books/2773000047\"> 메모혁신 Notion(노션) 활용 가이드</a>\n",
              "</li>\n",
              "<li>\n",
              "<a href=\"https://ridibooks.com/v2/Detail?id=2773000025\"> 제주코딩베이스캠프 코드페스티벌 Python 100제 1부</a>\n",
              "</li>\n",
              "<li>\n",
              "<a href=\"https://ridibooks.com/v2/Detail?id=2773000005\"> 튜토리얼로 배우는 HTML&amp;CSS</a>\n",
              "</li>\n",
              "<li>\n",
              "<a href=\"https://ridibooks.com/v2/Detail?id=2773000007\"> 코딩도장 튜토리얼로 배우는 Python 1편</a>\n",
              "</li>\n",
              "<li>\n",
              "<a href=\"https://ridibooks.com/v2/Detail?id=2773000008\"> 코딩도장 튜토리얼로 배우는 Python 2편</a>\n",
              "</li>\n",
              "<li>\n",
              "<a href=\"https://ridibooks.com/v2/Detail?id=2773000011\"> 코딩도장 튜토리얼로 배우는 Python 문제풀이</a>\n",
              "</li>\n",
              "<li>\n",
              "<a href=\"https://ridibooks.com/v2/Detail?id=2773000015\"> 타노스의 건틀릿 알고리즘 With Python</a>\n",
              "</li>\n",
              "<li>\n",
              "<a href=\"https://ridibooks.com/v2/Detail?id=2773000020\"> xlsxwriter 튜토리얼로 배우는 Python 엑셀 프로그래밍</a>\n",
              "</li>\n",
              "<li>\n",
              "<a href=\"https://ridibooks.com/v2/Detail?id=2773000022\"> 인공지능을 활용한 업무자동화 With Google Developers Group JEJU</a>\n",
              "</li>\n",
              "<li>\n",
              "<a href=\"https://ridibooks.com/v2/Detail?id=2773000002\"> 2017 제주 코딩 해커톤 Django 트랙 상편 1권</a>\n",
              "</li>\n",
              "</ul>\n",
              "</li>\n",
              "</ul>\n",
              "</div>\n",
              "<!-- /.navbar-collapse -->\n",
              "</div>\n",
              "<!-- /.container -->\n",
              "</nav>\n",
              "<!-- Page Header -->\n",
              "<!-- Set your background image for this header on the line below. -->\n",
              "<header class=\"intro-header\" style=\"background-image: url('img/home.jpg')\">\n",
              "<div class=\"container\">\n",
              "<div class=\"row\">\n",
              "<div class=\"col-lg-8 col-lg-offset-2 col-md-10 col-md-offset-1\">\n",
              "<div class=\"site-heading\">\n",
              "<a class=\"home\" href=\"index.html\" style=\"color: #ffffff;\">\n",
              "<h3>WENIV Books</h3>\n",
              "</a>\n",
              "</div>\n",
              "</div>\n",
              "</div>\n",
              "</div>\n",
              "</header>\n",
              "<!-- Main Content -->\n",
              "<div class=\"container\">\n",
              "<div class=\"row\">\n",
              "<div class=\"col-lg-8 col-lg-offset-2 col-md-10 col-md-offset-1\">\n",
              "<h3>Home</h3>\n",
              "<img src=\"img/sdot.jpg\" style=\"width: 80px; height: 40px;\"/>\n",
              "<p>해당 페이지는 크롤링 연습용으로도 제공되고 있습니다. 책 목록이 업데이트 되어있는 페이지는 아닙니다. 모든 책 목록은 <a href=\"https://ridibooks.com/search?q=%EC%82%AC%EB%8F%84%EC%B6%9C%ED%8C%90\">책 목록</a>에서 확인해주세요.</p>\n",
              "</div>\n",
              "</div>\n",
              "</div>\n",
              "<!-- Main Content1 -->\n",
              "<div class=\"container book_contents\">\n",
              "<div class=\"row\" style=\"margin-bottom: 50px;\">\n",
              "<div class=\"col-lg-2 col-lg-offset-2 col-md-2 col-md-offset-1\">\n",
              "<a href=\"https://ridibooks.com/books/2773000047\"><img class=\"img-responsive book_cover\" src=\"img/notion.png\"/></a>\n",
              "</div>\n",
              "<div class=\"col-lg-6 col-md-8 book_detail\">\n",
              "<h2 class=\"book_name\" style=\"margin-top: 0;\">메모혁신 Notion(노션) 활용 가이드</h2>\n",
              "<p class=\"book_info\" style=\"margin-bottom: 0;\">가격: 7,000원</p>\n",
              "<p class=\"book_info\" style=\"margin-bottom: 0;\">저자: 이호준, 이준호, 김혜원, 김유진, 차경림, 김진, 현지연, 정승한</p>\n",
              "<p class=\"book_info\" style=\"margin-bottom: 0;\">Notion의 기본 사용 방법부터 Notion을 활용한 홈페이지 제작 방법까지 다양하게 다루고 있으며 특히 개발자가 원하는 Notion의 활용 방법을 다루고 있습니다.</p>\n",
              "</div>\n",
              "</div>\n",
              "</div>\n",
              "<!-- Main Content1 -->\n",
              "<div class=\"container book_contents\">\n",
              "<div class=\"row\" style=\"margin-bottom: 50px;\">\n",
              "<div class=\"col-lg-2 col-lg-offset-2 col-md-2 col-md-offset-1\">\n",
              "<a href=\"https://ridibooks.com/books/2773000064\"><img class=\"img-responsive book_cover\" src=\"img/resume.png\"/></a>\n",
              "</div>\n",
              "<div class=\"col-lg-6 col-md-8 book_detail\">\n",
              "<h2 class=\"book_name\" style=\"margin-top: 0;\">이력서 작성 가이드</h2>\n",
              "<p class=\"book_info\" style=\"margin-bottom: 0;\">가격: 10,000원</p>\n",
              "<p class=\"book_info\" style=\"margin-bottom: 0;\">저자: 강혜진, 김유진, 김혜원, 김진, 이범재, 이호준, 원유선, 박누리, 차경림, 최원범, 한재현</p>\n",
              "<p class=\"book_info\" style=\"margin-bottom: 0;\">개발자 역량을 갖추는 것뿐만 아니라 회사에 뽑힐 확률을 높이는 전략과 방법도 필요합니다. 개발자 이력서는 그 첫걸음입니다.</p>\n",
              "</div>\n",
              "</div>\n",
              "</div>\n",
              "<!-- Main Content2 -->\n",
              "<div class=\"container book_contents\">\n",
              "<div class=\"row\" style=\"margin-bottom: 50px;\">\n",
              "<div class=\"col-lg-2 col-lg-offset-2 col-md-2 col-md-offset-1\">\n",
              "<a href=\"https://ridibooks.com/v2/Detail?id=2773000025\"><img class=\"img-responsive book_cover\" src=\"img/cofe.jpg\"/></a>\n",
              "</div>\n",
              "<div class=\"col-lg-6 col-md-8 book_detail\">\n",
              "<h2 class=\"book_name\" style=\"margin-top: 0;\">제주코딩베이스캠프 Code Festival: Python 100제 1부</h2>\n",
              "<p class=\"book_info\" style=\"margin-bottom: 0;\">가격: 무료</p>\n",
              "<p class=\"book_info\" style=\"margin-bottom: 0;\">저자: 이호준, 강민정, 김유진, 정윤하, 최원범</p>\n",
              "<p class=\"book_info\" style=\"margin-bottom: 0;\">파이썬으로 풀 수 있는 100문제를 만들었습니다. 50문제씩 1부(초급, 중급)와 2부(중급, 고급)로 나누어져있습니다.</p>\n",
              "</div>\n",
              "</div>\n",
              "</div>\n",
              "<!-- Main Content3 -->\n",
              "<div class=\"container book_contents\">\n",
              "<div class=\"row\" style=\"margin-bottom: 50px;\">\n",
              "<div class=\"col-lg-2 col-lg-offset-2 col-md-2 col-md-offset-1\">\n",
              "<a href=\"https://ridibooks.com/v2/Detail?id=2773000005\"><img class=\"img-responsive book_cover\" src=\"img/HTMLCSS.jpg\"/></a>\n",
              "</div>\n",
              "<div class=\"col-lg-6 col-md-8 book_detail\">\n",
              "<h2 class=\"book_name\" style=\"margin-top: 0;\">튜토리얼로 배우는 HTML&amp;CSS</h2>\n",
              "<p class=\"book_info\" style=\"margin-bottom: 0;\">가격: 4,900원</p>\n",
              "<p class=\"book_info\" style=\"margin-bottom: 0;\">저자: 이호준, 박민균, 양지혜, 정민준, 박소영, 전유빈</p>\n",
              "<p class=\"book_info\" style=\"margin-bottom: 0;\">튜토리얼을 통해 일단 만들어 봅시다! 무엇이든 일단 만들어 보면 길이 보이기 시작합니다. 그 다음 웹 동작방법, 태그의 동작 방식, 브라우저 렌더링 엔진 등에 대하여 부담이 되지 않을 만큼씩 배워가세요.</p>\n",
              "</div>\n",
              "</div>\n",
              "</div>\n",
              "<!-- Main Content4 -->\n",
              "<div class=\"container book_contents\">\n",
              "<div class=\"row\" style=\"margin-bottom: 50px;\">\n",
              "<div class=\"col-lg-2 col-lg-offset-2 col-md-2 col-md-offset-1\">\n",
              "<a href=\"https://ridibooks.com/v2/Detail?id=2773000007\"><img class=\"img-responsive book_cover\" src=\"img/python1.jpg\"/></a>\n",
              "</div>\n",
              "<div class=\"col-lg-6 col-md-8 book_detail\">\n",
              "<h2 class=\"book_name\" style=\"margin-top: 0;\">코딩도장 튜토리얼로 배우는 Python 1편 object</h2>\n",
              "<p class=\"book_info\" style=\"margin-bottom: 0;\">가격: 3,000원</p>\n",
              "<p class=\"book_info\" style=\"margin-bottom: 0;\">저자: 이호준, 정민준, 배희성, 김덕주, 한승협</p>\n",
              "<p class=\"book_info\" style=\"margin-bottom: 0;\">파이썬은 이해하기 쉽고 간결한 문법으로 생산성이 높아 교육을 포함한 다양한 분야 에서 활용되고 있는 언어입니다. 빅데이터 분석, 머신러닝, 웹 개발 등 다양하게 쓰이는 Python을 예제를 통해 배워보세요. 이 책은 여러 미션을 스토리텔링 형식으로 제공하며 튜토리얼 별로 코드를 제공하여 쉽고 재미있게 코딩 개념을 익힐 수 있도록 도와줄 것입니다.\n",
              "                    </p>\n",
              "</div>\n",
              "</div>\n",
              "</div>\n",
              "<!-- Main Content5 -->\n",
              "<div class=\"container book_contents\">\n",
              "<div class=\"row\" style=\"margin-bottom: 50px;\">\n",
              "<div class=\"col-lg-2 col-lg-offset-2 col-md-2 col-md-offset-1\">\n",
              "<a href=\"https://ridibooks.com/v2/Detail?id=2773000008\"><img class=\"img-responsive book_cover\" src=\"img/python2.jpg\"/></a>\n",
              "</div>\n",
              "<div class=\"col-lg-6 col-md-8 book_detail\">\n",
              "<h2 class=\"book_name\" style=\"margin-top: 0;\">코딩도장 튜토리얼로 배우는 python 2편 제어문</h2>\n",
              "<p class=\"book_info\" style=\"margin-bottom: 0;\">가격: 4,900원</p>\n",
              "<p class=\"book_info\" style=\"margin-bottom: 0;\">저자: 이호준, 우지훈, 박소영, 허재영</p>\n",
              "<p class=\"book_info\" style=\"margin-bottom: 0;\">파이썬 튜토리얼 시리즈는 1편 Object 2편 제어문 3편 문제풀이로 구성되어 있습니다.</p>\n",
              "</div>\n",
              "</div>\n",
              "</div>\n",
              "<!-- Main Content6 -->\n",
              "<div class=\"container book_contents\">\n",
              "<div class=\"row\" style=\"margin-bottom: 50px;\">\n",
              "<div class=\"col-lg-2 col-lg-offset-2 col-md-2 col-md-offset-1\">\n",
              "<a href=\"https://ridibooks.com/v2/Detail?id=2773000011\"><img class=\"img-responsive book_cover\" src=\"img/python3.jpg\"/></a>\n",
              "</div>\n",
              "<div class=\"col-lg-6 col-md-8 book_detail\">\n",
              "<h2 class=\"book_name\" style=\"margin-top: 0;\">코딩도장 튜토리얼로 배우는 Python 문제풀이</h2>\n",
              "<p class=\"book_info\" style=\"margin-bottom: 0;\">가격: 무료</p>\n",
              "<p class=\"book_info\" style=\"margin-bottom: 0;\">저자: 이호준, 전유빈, 김태범, 한승협, 김혜원, 강민정</p>\n",
              "<p class=\"book_info\" style=\"margin-bottom: 0;\">\n",
              "                          이 책은 Python 문법을 이제 막 끝낸 분에게 추천해 드립니다. \n",
              "                          코딩도장 사이트에 문제를 풀어보며 Python에 보다 깊게 다가가 보세요.\n",
              "                          다양한 문제들이 여러분의 실력을 향상시켜 줄 것입니다.</p>\n",
              "</div>\n",
              "</div>\n",
              "</div>\n",
              "<!-- Main Content7 -->\n",
              "<div class=\"container book_contents\">\n",
              "<div class=\"row\" style=\"margin-bottom: 50px;\">\n",
              "<div class=\"col-lg-2 col-lg-offset-2 col-md-2 col-md-offset-1\">\n",
              "<a href=\"https://ridibooks.com/books/2773000015\"><img class=\"img-responsive book_cover\" src=\"img/tanos.jpg\"/></a>\n",
              "</div>\n",
              "<div class=\"col-lg-6 col-md-8 book_detail\">\n",
              "<h2 class=\"book_name\" style=\"margin-top: 0;\">타노스의 건틀릿 알고리즘 With Python</h2>\n",
              "<p class=\"book_info\" style=\"margin-bottom: 0;\">가격: 무료</p>\n",
              "<p class=\"book_info\" style=\"margin-bottom: 0;\">저자: 이호준, 한승협, 강민정, 신민욱</p>\n",
              "<p class=\"book_info\" style=\"margin-bottom: 0;\">이 책은 Python 문법을 이제 막 끝낸 분에게 추천해 드립니다. \n",
              "                          타노스의 핑거스냅 문제를 다양한 시각으로 풀어보며 Python에 보다 깊게 다가가 보세요. \n",
              "                          다양한 시각이 여러분의 실력을 향상시켜줄 것입니다.</p>\n",
              "</div>\n",
              "</div>\n",
              "</div>\n",
              "<!-- Main Content8 -->\n",
              "<div class=\"container book_contents\">\n",
              "<div class=\"row\" style=\"margin-bottom: 50px;\">\n",
              "<div class=\"col-lg-2 col-lg-offset-2 col-md-2 col-md-offset-1\">\n",
              "<a href=\"https://ridibooks.com/books/2773000020\"><img class=\"img-responsive book_cover\" src=\"img/xlsx.jpg\"/></a>\n",
              "</div>\n",
              "<div class=\"col-lg-6 col-md-8 book_detail\">\n",
              "<h2 class=\"book_name\" style=\"margin-top: 0;\">xlsxwriter 튜토리얼로 배우는 Python 엑셀 프로그래밍</h2>\n",
              "<p class=\"book_info\" style=\"margin-bottom: 0;\">가격: 무료</p>\n",
              "<p class=\"book_info\" style=\"margin-bottom: 0;\">저자: 이호준, 강상권, 오재원, 전진환, 문형철, 이현창</p>\n",
              "<p class=\"book_info\" style=\"margin-bottom: 0;\">이 책은 빅데이터를 가공하여 엑셀로 가시화 시키기 원하는 업무 담당자와 단순 업무를 Python을 이용하여 자동화 시키려 하는 업무 담당자에게 추천해드립니다. \n",
              "                          또한 부서의 업무 고도화, 효율화를 위해 적절한 자동화 프로그램을 찾지 못한 기업과 학문적 호기심을 가진 개인에게도 추천해 드립니다. \n",
              "                          세계에서 유행중인 Python은 타 언어에 비해 다루기 쉬우며 풍성한 라이브러리로 원하는 프로그램을 직접 만들기에 적합합니다.</p>\n",
              "</div>\n",
              "</div>\n",
              "</div>\n",
              "<!-- Main Content9 -->\n",
              "<div class=\"container book_contents\">\n",
              "<div class=\"row\" style=\"margin-bottom: 50px;\">\n",
              "<div class=\"col-lg-2 col-lg-offset-2 col-md-2 col-md-offset-1\">\n",
              "<a href=\"https://ridibooks.com/books/2773000001\"><img class=\"img-responsive book_cover\" src=\"img/ruple.jpg\"/></a>\n",
              "</div>\n",
              "<div class=\"col-lg-6 col-md-8 book_detail\">\n",
              "<h2 class=\"book_name\" style=\"margin-top: 0;\">러플 튜토리얼로 배우는 Python</h2>\n",
              "<p class=\"book_info\" style=\"margin-bottom: 0;\">가격: 4,900</p>\n",
              "<p class=\"book_info\" style=\"margin-bottom: 0;\">저자: 이호준, 배희성, 양지혜, 박소영, 김수연, 정민준</p>\n",
              "<p class=\"book_info\" style=\"margin-bottom: 0;\">이 책은 소프트웨어 교육을 처음 접했거나 스크래치, \n",
              "                              엔트리 등 블록기반 교육용 소프트웨어 다음으로 무엇을 배워야 할 지 모르는 초등학교 학생,\n",
              "                              중학교 학생과 소프트웨어 교육을 담당하는 선생님께 권해드립니다.\n",
              "                               파이썬 코드로 로봇을 제어하면서 코딩을 쉽게 배울 수 있는 러플은 고급 프로그래밍 언어를 처음 접하는\n",
              "                                학생들이 쉽게 언어기반 프로그래밍을 이해할 수 있도록 도와줍니다.</p>\n",
              "</div>\n",
              "</div>\n",
              "</div>\n",
              "<!-- Main Content10 -->\n",
              "<div class=\"container book_contents\">\n",
              "<div class=\"row\" style=\"margin-bottom: 50px;\">\n",
              "<div class=\"col-lg-2 col-lg-offset-2 col-md-2 col-md-offset-1\">\n",
              "<a href=\"https://ridibooks.com/v2/Detail?id=2773000022\"><img class=\"img-responsive book_cover\" src=\"img/auto.jpg\"/></a>\n",
              "</div>\n",
              "<div class=\"col-lg-6 col-md-8 book_detail\">\n",
              "<h2 class=\"book_name\" style=\"margin-top: 0;\">인공지능을 활용한 업무자동화 With Google Developers Group JEJU</h2>\n",
              "<p class=\"book_info\" style=\"margin-bottom: 0;\">가격: 무료</p>\n",
              "<p class=\"book_info\" style=\"margin-bottom: 0;\">저자: 이호준, 이준호, 현암, 윤현담, 김루비, 이동민, 유승엽, 박서윤, 김채린, 한승협, 안상우, 장성원, 전진환, 강민성, 조민구, 전창삼</p>\n",
              "<p class=\"book_info\" style=\"margin-bottom: 0;\">이 책은 반복적이고 지루한 단순 업무를 Python을 이용하여 \n",
              "                          자동화 시키려 하는 업무 담당자와 데이터를 가공하여 가시화 시키기 원하는 업무 담당자에게 추천해드립니다.\n",
              "                           또한 부서의 업무 고도화, 효율화를 위해 적절한 자동화 프로그램을 찾지 못한 기업과 학문적 호기심을 가진 개인에게도 추천해 드립니다. \n",
              "                          세계에서 유행중인 Python은 타 언어에 비해 다루기 쉬우며 풍성한 라이브러리로 원하는 프로그램을 직접 만들기에 적합합니다.</p>\n",
              "</div>\n",
              "</div>\n",
              "</div>\n",
              "<!-- Footer -->\n",
              "<footer>\n",
              "<div class=\"container\">\n",
              "<div class=\"row\">\n",
              "<div class=\"col-lg-8 col-lg-offset-2 col-md-10 col-md-offset-1\">\n",
              "<ul class=\"list-inline text-center\">\n",
              "<li>\n",
              "<a href=\"https://www.paullab.co.kr/\">\n",
              "<img alt=\"\" class=\"footer_logo\" src=\"img/logo_weniv.png\"/>\n",
              "</a>\n",
              "</li>\n",
              "</ul>\n",
              "<p class=\"copyright text-muted\">copyright ©2023 weniv all rights reserved.</p>\n",
              "</div>\n",
              "</div>\n",
              "</div>\n",
              "</footer>\n",
              "<!-- jQuery -->\n",
              "<script src=\"js/jquery.js\"></script>\n",
              "<!-- Bootstrap Core JavaScript -->\n",
              "<script src=\"js/bootstrap.min.js\"></script>\n",
              "<!-- Custom Theme JavaScript -->\n",
              "<script src=\"js/clean-blog.min.js\"></script>\n",
              "</body>\n",
              "</html>"
            ]
          },
          "metadata": {},
          "execution_count": 66
        }
      ]
    },
    {
      "cell_type": "code",
      "source": [
        "soup.select('.book_cover')\n",
        "soup.select('.book_name')\n",
        "soup.select('.book_info')"
      ],
      "metadata": {
        "id": "od8q-BD4VPHL"
      },
      "execution_count": null,
      "outputs": []
    },
    {
      "cell_type": "code",
      "source": [
        "# 데이터를 어디에다 저장해야 할까?\n",
        "# 리스트, 튜플, 딕셔너리, 셋, 별도 클래스\n",
        "# 가장 많이 초이스 하는 것: 리스트 안에 리스트\n",
        "# 이유: 쉬워서\n",
        "# 조금 고민을 했다면: 리스트 안에 딕셔너리\n",
        "# 이유: JSON 변경하기 좋아서\n",
        "# 만약 확장성까지 고려 했다면: 리스트 안에 별도 클래스\n",
        "# 이유: 이 데이터에 확장성을 추가하기 위해서"
      ],
      "metadata": {
        "id": "lwVC9WYXV3bb"
      },
      "execution_count": null,
      "outputs": []
    },
    {
      "cell_type": "code",
      "source": [
        "result = []"
      ],
      "metadata": {
        "id": "p8e_5ExvW24O"
      },
      "execution_count": null,
      "outputs": []
    },
    {
      "cell_type": "code",
      "source": [
        "result = []\n",
        "\n",
        "for i, img in enumerate(soup.select('.book_cover')):\n",
        "    d = {\n",
        "        '이름': soup.select('.book_name')[i].text,\n",
        "        '이미지': 'https://paullab.co.kr/bookservice/' + img['src'],\n",
        "        '가격': soup.select('.book_info')[i*3].text\\\n",
        "            .replace('가격: ', '')\\\n",
        "            .replace('원', '')\\\n",
        "            .replace(',', '')\\\n",
        "            .replace('무료', '0')\n",
        "    }\n",
        "    result.append(d)\n",
        "\n",
        "result"
      ],
      "metadata": {
        "colab": {
          "base_uri": "https://localhost:8080/"
        },
        "id": "KIA-oHf5W4sx",
        "outputId": "3e4d1eb0-0601-4c58-876d-b13ca26b8dec"
      },
      "execution_count": null,
      "outputs": [
        {
          "output_type": "execute_result",
          "data": {
            "text/plain": [
              "[{'이름': '메모혁신 Notion(노션) 활용 가이드',\n",
              "  '이미지': 'https://paullab.co.kr/bookservice/img/notion.png',\n",
              "  '가격': '7000'},\n",
              " {'이름': '이력서 작성 가이드',\n",
              "  '이미지': 'https://paullab.co.kr/bookservice/img/resume.png',\n",
              "  '가격': '10000'},\n",
              " {'이름': '제주코딩베이스캠프 Code Festival: Python 100제 1부',\n",
              "  '이미지': 'https://paullab.co.kr/bookservice/img/cofe.jpg',\n",
              "  '가격': '0'},\n",
              " {'이름': '튜토리얼로 배우는 HTML&CSS',\n",
              "  '이미지': 'https://paullab.co.kr/bookservice/img/HTMLCSS.jpg',\n",
              "  '가격': '4900'},\n",
              " {'이름': '코딩도장 튜토리얼로 배우는 Python 1편 object',\n",
              "  '이미지': 'https://paullab.co.kr/bookservice/img/python1.jpg',\n",
              "  '가격': '3000'},\n",
              " {'이름': '코딩도장 튜토리얼로 배우는 python 2편 제어문',\n",
              "  '이미지': 'https://paullab.co.kr/bookservice/img/python2.jpg',\n",
              "  '가격': '4900'},\n",
              " {'이름': '코딩도장 튜토리얼로 배우는 Python 문제풀이',\n",
              "  '이미지': 'https://paullab.co.kr/bookservice/img/python3.jpg',\n",
              "  '가격': '0'},\n",
              " {'이름': '타노스의 건틀릿 알고리즘 With Python',\n",
              "  '이미지': 'https://paullab.co.kr/bookservice/img/tanos.jpg',\n",
              "  '가격': '0'},\n",
              " {'이름': 'xlsxwriter 튜토리얼로 배우는 Python 엑셀 프로그래밍',\n",
              "  '이미지': 'https://paullab.co.kr/bookservice/img/xlsx.jpg',\n",
              "  '가격': '0'},\n",
              " {'이름': '러플 튜토리얼로 배우는 Python',\n",
              "  '이미지': 'https://paullab.co.kr/bookservice/img/ruple.jpg',\n",
              "  '가격': '4900'},\n",
              " {'이름': '인공지능을 활용한 업무자동화 With Google Developers Group JEJU',\n",
              "  '이미지': 'https://paullab.co.kr/bookservice/img/auto.jpg',\n",
              "  '가격': '0'}]"
            ]
          },
          "metadata": {},
          "execution_count": 85
        }
      ]
    },
    {
      "cell_type": "code",
      "source": [
        "book_info_string = ''\n",
        "\n",
        "for i in result:\n",
        "    book_info_string += f'''\n",
        "    <section>\n",
        "        <img width=\"200px\" src=\"{i['이미지']}\">\n",
        "        <h2>{i['이름']}</h2>\n",
        "        <p>{i['가격']}</p>\n",
        "    </section>\n",
        "    '''\n",
        "\n",
        "f = open('index.html', 'w')\n",
        "s = f'''<html>\n",
        "<head>\n",
        "</head>\n",
        "<body>\n",
        "<h1>위니브 책 출판</h1>\n",
        "{book_info_string}\n",
        "</body>\n",
        "</html>\n",
        "'''\n",
        "print(s)\n",
        "f.write(s)\n",
        "f.close()"
      ],
      "metadata": {
        "colab": {
          "base_uri": "https://localhost:8080/"
        },
        "id": "mAtKHFnkZFde",
        "outputId": "f9c97c7b-82bd-4929-e967-6f92c49abee0"
      },
      "execution_count": null,
      "outputs": [
        {
          "output_type": "stream",
          "name": "stdout",
          "text": [
            "<html>\n",
            "<head>\n",
            "</head>\n",
            "<body>\n",
            "<h1>위니브 책 출판</h1>\n",
            "\n",
            "    <section>\n",
            "        <img width=\"200px\" src=\"https://paullab.co.kr/bookservice/img/notion.png\">\n",
            "        <h2>메모혁신 Notion(노션) 활용 가이드</h2>\n",
            "        <p>7000</p>\n",
            "    </section>\n",
            "    \n",
            "    <section>\n",
            "        <img width=\"200px\" src=\"https://paullab.co.kr/bookservice/img/resume.png\">\n",
            "        <h2>이력서 작성 가이드</h2>\n",
            "        <p>10000</p>\n",
            "    </section>\n",
            "    \n",
            "    <section>\n",
            "        <img width=\"200px\" src=\"https://paullab.co.kr/bookservice/img/cofe.jpg\">\n",
            "        <h2>제주코딩베이스캠프 Code Festival: Python 100제 1부</h2>\n",
            "        <p>0</p>\n",
            "    </section>\n",
            "    \n",
            "    <section>\n",
            "        <img width=\"200px\" src=\"https://paullab.co.kr/bookservice/img/HTMLCSS.jpg\">\n",
            "        <h2>튜토리얼로 배우는 HTML&CSS</h2>\n",
            "        <p>4900</p>\n",
            "    </section>\n",
            "    \n",
            "    <section>\n",
            "        <img width=\"200px\" src=\"https://paullab.co.kr/bookservice/img/python1.jpg\">\n",
            "        <h2>코딩도장 튜토리얼로 배우는 Python 1편 object</h2>\n",
            "        <p>3000</p>\n",
            "    </section>\n",
            "    \n",
            "    <section>\n",
            "        <img width=\"200px\" src=\"https://paullab.co.kr/bookservice/img/python2.jpg\">\n",
            "        <h2>코딩도장 튜토리얼로 배우는 python 2편 제어문</h2>\n",
            "        <p>4900</p>\n",
            "    </section>\n",
            "    \n",
            "    <section>\n",
            "        <img width=\"200px\" src=\"https://paullab.co.kr/bookservice/img/python3.jpg\">\n",
            "        <h2>코딩도장 튜토리얼로 배우는 Python 문제풀이</h2>\n",
            "        <p>0</p>\n",
            "    </section>\n",
            "    \n",
            "    <section>\n",
            "        <img width=\"200px\" src=\"https://paullab.co.kr/bookservice/img/tanos.jpg\">\n",
            "        <h2>타노스의 건틀릿 알고리즘 With Python</h2>\n",
            "        <p>0</p>\n",
            "    </section>\n",
            "    \n",
            "    <section>\n",
            "        <img width=\"200px\" src=\"https://paullab.co.kr/bookservice/img/xlsx.jpg\">\n",
            "        <h2>xlsxwriter 튜토리얼로 배우는 Python 엑셀 프로그래밍</h2>\n",
            "        <p>0</p>\n",
            "    </section>\n",
            "    \n",
            "    <section>\n",
            "        <img width=\"200px\" src=\"https://paullab.co.kr/bookservice/img/ruple.jpg\">\n",
            "        <h2>러플 튜토리얼로 배우는 Python</h2>\n",
            "        <p>4900</p>\n",
            "    </section>\n",
            "    \n",
            "    <section>\n",
            "        <img width=\"200px\" src=\"https://paullab.co.kr/bookservice/img/auto.jpg\">\n",
            "        <h2>인공지능을 활용한 업무자동화 With Google Developers Group JEJU</h2>\n",
            "        <p>0</p>\n",
            "    </section>\n",
            "    \n",
            "</body>\n",
            "</html>\n",
            "\n"
          ]
        }
      ]
    },
    {
      "cell_type": "code",
      "source": [
        "result[0]"
      ],
      "metadata": {
        "colab": {
          "base_uri": "https://localhost:8080/"
        },
        "id": "i-HaA4Zmc1fp",
        "outputId": "3207b640-e705-45fe-af76-e71da5d69c92"
      },
      "execution_count": null,
      "outputs": [
        {
          "output_type": "execute_result",
          "data": {
            "text/plain": [
              "{'이름': '메모혁신 Notion(노션) 활용 가이드',\n",
              " '이미지': 'https://paullab.co.kr/bookservice/img/notion.png',\n",
              " '가격': '7000'}"
            ]
          },
          "metadata": {},
          "execution_count": 88
        }
      ]
    },
    {
      "cell_type": "code",
      "source": [
        "# 하나의 코드로 합친 것\n",
        "\n",
        "import requests\n",
        "from bs4 import BeautifulSoup\n",
        "\n",
        "data = requests.get('https://paullab.co.kr/bookservice/')\n",
        "soup = BeautifulSoup(data.text, 'html.parser')\n",
        "\n",
        "result = []\n",
        "\n",
        "for i, img in enumerate(soup.select('.book_cover')):\n",
        "    d = {\n",
        "        '이름': soup.select('.book_name')[i].text,\n",
        "        '이미지': 'https://paullab.co.kr/bookservice/' + img['src'],\n",
        "        '가격': soup.select('.book_info')[i*3].text\\\n",
        "            .replace('가격: ', '')\\\n",
        "            .replace('원', '')\\\n",
        "            .replace(',', '')\\\n",
        "            .replace('무료', '0')\n",
        "    }\n",
        "    result.append(d)\n",
        "\n",
        "book_info_string = ''\n",
        "\n",
        "for i in result:\n",
        "    book_info_string += f'''\n",
        "    <section>\n",
        "        <img width=\"200px\" src=\"{i['이미지']}\">\n",
        "        <h2>{i['이름']}</h2>\n",
        "        <p>{i['가격']}</p>\n",
        "    </section>\n",
        "    '''\n",
        "\n",
        "f = open('index.html', 'w')\n",
        "s = f'''<html>\n",
        "<head>\n",
        "</head>\n",
        "<body>\n",
        "<h1>위니브 책 출판</h1>\n",
        "{book_info_string}\n",
        "</body>\n",
        "</html>\n",
        "'''\n",
        "f.write(s)\n",
        "f.close()"
      ],
      "metadata": {
        "id": "JxX2-2h2dEEv"
      },
      "execution_count": null,
      "outputs": []
    },
    {
      "cell_type": "code",
      "source": [
        "# 개선된 코드\n",
        "\n",
        "import requests\n",
        "from bs4 import BeautifulSoup\n",
        "\n",
        "data = requests.get('https://paullab.co.kr/bookservice/')\n",
        "soup = BeautifulSoup(data.text, 'html.parser')\n",
        "\n",
        "class Book:\n",
        "    def __init__(self, name, image, price):\n",
        "        self.name = name\n",
        "        self.image = f'https://paullab.co.kr/bookservice/{image}'\n",
        "        self.price = price\n",
        "\n",
        "    def __str__(self):\n",
        "        return f'<{self.name}, {self.price}>'\n",
        "\n",
        "    def __repr__(self):\n",
        "        return f'<{self.name}, {self.price}>'\n",
        "\n",
        "    def make_html(self):\n",
        "        return f'''\n",
        "        <section>\n",
        "            <img width=\"200px\" src=\"{self.image}\">\n",
        "            <h2>{self.name}</h2>\n",
        "            <p>{self.price}</p>\n",
        "        </section>\n",
        "        '''\n",
        "\n",
        "    def make_json(self):\n",
        "        return {\n",
        "            '이름': self.name,\n",
        "            '이미지': self.image,\n",
        "            '가격': self.price\n",
        "        }\n",
        "\n",
        "result = []\n",
        "\n",
        "for i, img in enumerate(soup.select('.book_cover')):\n",
        "    name = soup.select('.book_name')[i].text\n",
        "    img = img['src']\n",
        "    price = soup.select('.book_info')[i*3].text\\\n",
        "            .replace('가격: ', '')\\\n",
        "            .replace('원', '')\\\n",
        "            .replace(',', '')\\\n",
        "            .replace('무료', '0')\n",
        "    result.append(Book(name, img, price))\n",
        "\n",
        "book_info_string = ''\n",
        "\n",
        "for i in result:\n",
        "    book_info_string += i.make_html()\n",
        "\n",
        "with open('index.html', 'w', encoding='utf-8') as f:\n",
        "    f.write(book_info_string)"
      ],
      "metadata": {
        "id": "U3KtzStadX_f"
      },
      "execution_count": null,
      "outputs": []
    },
    {
      "cell_type": "markdown",
      "source": [
        "# 비트연산"
      ],
      "metadata": {
        "id": "d6IOSKedgMBU"
      }
    },
    {
      "cell_type": "code",
      "source": [
        "# 진수\n",
        "# 0 1 2 3 4 5 6 7 8 9 10\n",
        "# 0 1 10\n",
        "# 0 1 2 3 4 5 6 7 10\n",
        "# 0 1 2 3 4 5 6 7 8 9 a b c d e f 10"
      ],
      "metadata": {
        "id": "4J0QIa2cfXC_"
      },
      "execution_count": null,
      "outputs": []
    },
    {
      "cell_type": "code",
      "source": [
        "# 그런데 왜 진수가 필요하죠? 저는 10진수만 사용하고 싶어요.\n",
        "0.1 + 0.2"
      ],
      "metadata": {
        "colab": {
          "base_uri": "https://localhost:8080/"
        },
        "id": "rbFWQfJegrRK",
        "outputId": "d092bce0-8c12-44ea-ad85-1e8e6ca6d319"
      },
      "execution_count": null,
      "outputs": [
        {
          "output_type": "execute_result",
          "data": {
            "text/plain": [
              "0.30000000000000004"
            ]
          },
          "metadata": {},
          "execution_count": 97
        }
      ]
    },
    {
      "cell_type": "code",
      "source": [
        "# 컴퓨터는 2진수 입니다. 2진수로 연산을 합니다.\n",
        "# 그래서 2진수를 알아야 합니다. => 잘못된 결론입니다.ㅎㅎ\n",
        "# 이제는 실무에서 2진수를 사용하지 않습니다."
      ],
      "metadata": {
        "id": "ciKeOM7Lgvzq"
      },
      "execution_count": null,
      "outputs": []
    },
    {
      "cell_type": "code",
      "source": [
        "print(bin(10))\n",
        "print(oct(10))\n",
        "print(hex(10))"
      ],
      "metadata": {
        "colab": {
          "base_uri": "https://localhost:8080/"
        },
        "id": "pZhaxWe_g_3m",
        "outputId": "73a3869c-7c5a-43ca-d135-04c48dd0159f"
      },
      "execution_count": null,
      "outputs": [
        {
          "output_type": "stream",
          "name": "stdout",
          "text": [
            "0b1010\n",
            "0o12\n",
            "0xa\n"
          ]
        }
      ]
    },
    {
      "cell_type": "code",
      "source": [
        "type(bin(10))"
      ],
      "metadata": {
        "colab": {
          "base_uri": "https://localhost:8080/"
        },
        "id": "wLjXrnI4hMJq",
        "outputId": "0051fbbc-482b-4005-831f-2e45d55e88a4"
      },
      "execution_count": null,
      "outputs": [
        {
          "output_type": "execute_result",
          "data": {
            "text/plain": [
              "str"
            ]
          },
          "metadata": {},
          "execution_count": 101
        }
      ]
    },
    {
      "cell_type": "code",
      "source": [
        "print(bin(10)[2:])\n",
        "print(oct(10)[2:])\n",
        "print(hex(10)[2:])"
      ],
      "metadata": {
        "colab": {
          "base_uri": "https://localhost:8080/"
        },
        "id": "_42sTbJNhbiK",
        "outputId": "0c644d76-bdbb-43f9-e795-89fb07f751f4"
      },
      "execution_count": null,
      "outputs": [
        {
          "output_type": "stream",
          "name": "stdout",
          "text": [
            "1010\n",
            "12\n",
            "a\n"
          ]
        }
      ]
    },
    {
      "cell_type": "code",
      "source": [
        "int('1011', 2) # 뒤에 있는 진수를 보고 10진수로 변환해줍니다.\n",
        "int('12', 8)\n",
        "int('ff', 16)"
      ],
      "metadata": {
        "colab": {
          "base_uri": "https://localhost:8080/"
        },
        "id": "BNhle38ohoJN",
        "outputId": "ff7cc6f6-17a7-4303-8fb2-2684d0c750cb"
      },
      "execution_count": null,
      "outputs": [
        {
          "output_type": "execute_result",
          "data": {
            "text/plain": [
              "255"
            ]
          },
          "metadata": {},
          "execution_count": 108
        }
      ]
    },
    {
      "cell_type": "code",
      "source": [
        "3 | 6\n",
        "\n",
        "# 0011\n",
        "# 0110\n",
        "# ----\n",
        "# 0111 => 7"
      ],
      "metadata": {
        "colab": {
          "base_uri": "https://localhost:8080/"
        },
        "id": "ju7dbuLNiG_d",
        "outputId": "914b269a-4ffe-48ef-8aa6-1992718fd273"
      },
      "execution_count": null,
      "outputs": [
        {
          "output_type": "execute_result",
          "data": {
            "text/plain": [
              "7"
            ]
          },
          "metadata": {},
          "execution_count": 110
        }
      ]
    },
    {
      "cell_type": "code",
      "source": [
        "3 & 6\n",
        "\n",
        "# 0011\n",
        "# 0110\n",
        "# ----\n",
        "# 0010 => 2"
      ],
      "metadata": {
        "colab": {
          "base_uri": "https://localhost:8080/"
        },
        "id": "T1_hm8yfjOIT",
        "outputId": "6b9184cc-73ba-40a0-988d-e4d1f85d2028"
      },
      "execution_count": null,
      "outputs": [
        {
          "output_type": "execute_result",
          "data": {
            "text/plain": [
              "2"
            ]
          },
          "metadata": {},
          "execution_count": 111
        }
      ]
    },
    {
      "cell_type": "code",
      "source": [
        "~3 # 내 값에 + 1 한다음 음수를 앞에 붙입니다."
      ],
      "metadata": {
        "colab": {
          "base_uri": "https://localhost:8080/"
        },
        "id": "38vD1eFFkAnL",
        "outputId": "894a6339-aafd-4789-baf7-2ff1b2f07ecc"
      },
      "execution_count": null,
      "outputs": [
        {
          "output_type": "execute_result",
          "data": {
            "text/plain": [
              "-4"
            ]
          },
          "metadata": {},
          "execution_count": 112
        }
      ]
    },
    {
      "cell_type": "code",
      "source": [
        "3 << 2\n",
        "\n",
        "# 0011 => 3\n",
        "# 1100 => 12"
      ],
      "metadata": {
        "colab": {
          "base_uri": "https://localhost:8080/"
        },
        "id": "_ithQA93kJ9V",
        "outputId": "bf1536aa-afdb-4c8d-eb05-6b22f574ec52"
      },
      "execution_count": null,
      "outputs": [
        {
          "output_type": "execute_result",
          "data": {
            "text/plain": [
              "12"
            ]
          },
          "metadata": {},
          "execution_count": 113
        }
      ]
    },
    {
      "cell_type": "markdown",
      "source": [
        "# f-string"
      ],
      "metadata": {
        "id": "YXM-IpP-lSdG"
      }
    },
    {
      "cell_type": "code",
      "source": [
        "name = \"hello\\nworld\"\n",
        "print(f\"{name}\") # 대입 값\n",
        "print(r\"hello\\nworld\") # raw 값"
      ],
      "metadata": {
        "colab": {
          "base_uri": "https://localhost:8080/"
        },
        "id": "ZGuJ1de-keai",
        "outputId": "1a5e96f7-7edb-411b-bf5a-922162a994b3"
      },
      "execution_count": null,
      "outputs": [
        {
          "output_type": "stream",
          "name": "stdout",
          "text": [
            "hello\n",
            "world\n",
            "hello\\nworld\n"
          ]
        }
      ]
    },
    {
      "cell_type": "code",
      "source": [
        "s = f'''h\n",
        "e\n",
        "l\n",
        "l\n",
        "o\n",
        "{name}\n",
        "'''\n",
        "print(s)"
      ],
      "metadata": {
        "colab": {
          "base_uri": "https://localhost:8080/"
        },
        "id": "TgOzsRJDmGwS",
        "outputId": "afcff39f-19b2-4d3f-ea91-7b291fceb347"
      },
      "execution_count": null,
      "outputs": [
        {
          "output_type": "stream",
          "name": "stdout",
          "text": [
            "h\n",
            "e\n",
            "l\n",
            "l\n",
            "o\n",
            "hello\n",
            "world\n",
            "\n"
          ]
        }
      ]
    },
    {
      "cell_type": "code",
      "source": [
        "s = f'{{name}}'\n",
        "print(s)\n",
        "s = f'{{{name}}}'\n",
        "print(s)"
      ],
      "metadata": {
        "colab": {
          "base_uri": "https://localhost:8080/"
        },
        "id": "KoSI1OKkmQNN",
        "outputId": "e3e54776-ba28-43dc-c64f-05a152066c71"
      },
      "execution_count": null,
      "outputs": [
        {
          "output_type": "stream",
          "name": "stdout",
          "text": [
            "{name}\n",
            "{hello\n",
            "world}\n"
          ]
        }
      ]
    },
    {
      "cell_type": "code",
      "source": [
        "num = 3.14159\n",
        "print(f\"{num:.2f}\")  # 출력: 3.14"
      ],
      "metadata": {
        "colab": {
          "base_uri": "https://localhost:8080/"
        },
        "id": "2dESSyW2mdCf",
        "outputId": "440749b5-e3b8-4aa8-a032-e036bd669ce3"
      },
      "execution_count": null,
      "outputs": [
        {
          "output_type": "stream",
          "name": "stdout",
          "text": [
            "3.14\n"
          ]
        }
      ]
    },
    {
      "cell_type": "code",
      "source": [
        "name = \"Alice\"\n",
        "print(f\"{name:>10}\")\n",
        "print(f\"{name:<10}\")\n",
        "print(f\"{name:=^11}\") # 가끔 log 기록할 때 많이 사용합니다."
      ],
      "metadata": {
        "colab": {
          "base_uri": "https://localhost:8080/"
        },
        "id": "P4plpv62mmNI",
        "outputId": "bbd213a1-e1b7-4539-b27e-3bfee530fb20"
      },
      "execution_count": null,
      "outputs": [
        {
          "output_type": "stream",
          "name": "stdout",
          "text": [
            "     Alice\n",
            "Alice     \n",
            "===Alice===\n"
          ]
        }
      ]
    },
    {
      "cell_type": "markdown",
      "source": [
        "# 비동기 프로그래밍"
      ],
      "metadata": {
        "id": "OYA93lkD5tB-"
      }
    },
    {
      "cell_type": "code",
      "source": [
        "import time\n",
        "\n",
        "def job(number):\n",
        "    print(f\"Job {number} started\")\n",
        "    time.sleep(3)  # 이 time.sleep이 매우 오래 걸리는 작업 이라 가정하고 그 효율을 생각해봅시다. 일반 sleep은 CPU를 쉬게 합니다.\n",
        "    print(f\"Job {number} completed\")\n",
        "\n",
        "job(1)\n",
        "job(2)\n",
        "job(3)"
      ],
      "metadata": {
        "colab": {
          "base_uri": "https://localhost:8080/"
        },
        "id": "BP2h3xP65upK",
        "outputId": "867da7bf-c0f5-4d63-a960-f0b7a7384aa0"
      },
      "execution_count": null,
      "outputs": [
        {
          "output_type": "stream",
          "name": "stdout",
          "text": [
            "Job 1 started\n",
            "Job 1 completed\n",
            "Job 2 started\n",
            "Job 2 completed\n",
            "Job 3 started\n",
            "Job 3 completed\n"
          ]
        }
      ]
    },
    {
      "cell_type": "code",
      "source": [
        "!pip install nest_asyncio"
      ],
      "metadata": {
        "colab": {
          "base_uri": "https://localhost:8080/"
        },
        "id": "6gqu5UJB6IAK",
        "outputId": "87d51028-a8a9-4fc3-afa1-b01207ff5c83"
      },
      "execution_count": null,
      "outputs": [
        {
          "output_type": "stream",
          "name": "stdout",
          "text": [
            "Requirement already satisfied: nest_asyncio in /usr/local/lib/python3.10/dist-packages (1.6.0)\n"
          ]
        }
      ]
    },
    {
      "cell_type": "code",
      "source": [
        "import nest_asyncio\n",
        "\n",
        "nest_asyncio.apply()"
      ],
      "metadata": {
        "id": "5fsSRzS26KN_"
      },
      "execution_count": null,
      "outputs": []
    },
    {
      "cell_type": "code",
      "source": [
        "import asyncio\n",
        "\n",
        "async def job(number):\n",
        "    print(f\"Job {number} started\")\n",
        "    await asyncio.sleep(1) # 매우 오래 걸리는 작업, asyncio.sleep은 비동기 처리를 할 수 있도록 합니다.(다른 작업이 가능합니다.)\n",
        "    print(f\"Job {number} completed\")\n",
        "\n",
        "async def main():\n",
        "    await asyncio.gather(job(1), job(2), job(3)) # await asyncio.wait([job(1), job(2), job(3)])\n",
        "\n",
        "asyncio.run(main())\n",
        "print('hello world')"
      ],
      "metadata": {
        "colab": {
          "base_uri": "https://localhost:8080/"
        },
        "id": "bhK--52C5v7f",
        "outputId": "31280f19-e289-4a84-d292-f1bca6bf0bb6"
      },
      "execution_count": null,
      "outputs": [
        {
          "output_type": "stream",
          "name": "stdout",
          "text": [
            "Job 1 started\n",
            "Job 2 started\n",
            "Job 3 started\n",
            "Job 1 completed\n",
            "Job 2 completed\n",
            "Job 3 completed\n",
            "hello world\n"
          ]
        }
      ]
    },
    {
      "cell_type": "code",
      "source": [
        "async def job():\n",
        "    print('job')\n",
        "\n",
        "print(job) # <function job at 0x7fc8cb38ef80>, 코루틴 객체 반환\n",
        "job() # <coroutine object job at 0x7fc8cb32bc30>, print('job')이 실행되진 않습니다!\n",
        "\n",
        "async def main():\n",
        "    return await job() # 'job' 출력을 기다림\n",
        "\n",
        "main() # <coroutine object main at 0x7fc8cb22bf40>\n",
        "print(await main()) # None"
      ],
      "metadata": {
        "colab": {
          "base_uri": "https://localhost:8080/"
        },
        "id": "rAvvM3Be6aPL",
        "outputId": "365b4620-622a-4d2d-bad5-47adf04cc592"
      },
      "execution_count": null,
      "outputs": [
        {
          "output_type": "stream",
          "name": "stdout",
          "text": [
            "<function job at 0x79677016bb50>\n",
            "job\n",
            "None\n"
          ]
        },
        {
          "output_type": "stream",
          "name": "stderr",
          "text": [
            "<ipython-input-134-d3533c67c1bd>:5: RuntimeWarning: coroutine 'job' was never awaited\n",
            "  job() # <coroutine object job at 0x7fc8cb32bc30>, print('job')이 실행되진 않습니다!\n",
            "RuntimeWarning: Enable tracemalloc to get the object allocation traceback\n",
            "<ipython-input-134-d3533c67c1bd>:10: RuntimeWarning: coroutine 'main' was never awaited\n",
            "  main() # <coroutine object main at 0x7fc8cb22bf40>\n",
            "RuntimeWarning: Enable tracemalloc to get the object allocation traceback\n"
          ]
        }
      ]
    },
    {
      "cell_type": "markdown",
      "source": [
        "# 테스팅과 디버깅"
      ],
      "metadata": {
        "id": "QkaLR4iW7vKX"
      }
    },
    {
      "cell_type": "code",
      "source": [
        "# TDD: 테스트 주도 개발\n",
        "# MDD(농담입니다): 월급 주도 개발\n",
        "# DDD: 도메인 주도 개발\n",
        "\n",
        "# TDD X: 코드 개발 => 테스트 돌리고 => 코드를 수정하고 => 배포하고\n",
        "# TDD O: 코드를 작성하기 전 테스트를 먼저 만들고 =>\n",
        "#        테스트를 통과하도록 코드를 만들고 =>\n",
        "#        테스트를 통과하면 그 기능 개발을 중단하여 다음 개발로 넘어가고 =>\n",
        "#        배포하고"
      ],
      "metadata": {
        "id": "oh9esRGo7xLb"
      },
      "execution_count": null,
      "outputs": []
    },
    {
      "cell_type": "code",
      "source": [
        "# 지금 배우는 Test 기본 기능들은 Django에서도 그대로 사용 됩니다.\n",
        "# self.assertEqual(1 + 2, 3)\n",
        "# self.assertTrue(10 == 10)\n",
        "# self.assertFalse(1 == 10)\n",
        "# # self.assertGreater(10, 1)\n",
        "# # self.assertLess(1, 10)\n",
        "# self.assertIn(1, [1, 2, 3, 4, 5])\n",
        "# # self.assertIsInstance('a', str)"
      ],
      "metadata": {
        "id": "EdC_u-458Y6C"
      },
      "execution_count": null,
      "outputs": []
    },
    {
      "cell_type": "markdown",
      "source": [
        "# 디버깅 툴"
      ],
      "metadata": {
        "id": "a0KczgdFBgH5"
      }
    },
    {
      "cell_type": "code",
      "source": [
        "import pdb\n",
        "\n",
        "def add_to_ten(num):\n",
        "    result = num + 10\n",
        "    pdb.set_trace()  # 디버거를 실행합니다. break 포인트입니다.\n",
        "    return result\n",
        "\n",
        "add_to_ten(5)"
      ],
      "metadata": {
        "colab": {
          "base_uri": "https://localhost:8080/"
        },
        "id": "G0raVa9CBhQO",
        "outputId": "8e037098-4433-4d04-83c1-8214b0fe819b"
      },
      "execution_count": null,
      "outputs": [
        {
          "output_type": "stream",
          "name": "stderr",
          "text": [
            "\n",
            "PYDEV DEBUGGER WARNING:\n",
            "sys.settrace() should not be used when the debugger is being used.\n",
            "This may cause the debugger to stop working correctly.\n",
            "If this is needed, please check: \n",
            "http://pydev.blogspot.com/2007/06/why-cant-pydev-debugger-work-with.html\n",
            "to see how to restore the debug tracing back correctly.\n",
            "Call Location:\n",
            "  File \"/usr/lib/python3.10/bdb.py\", line 336, in set_trace\n",
            "    sys.settrace(self.trace_dispatch)\n",
            "\n"
          ]
        },
        {
          "name": "stdout",
          "output_type": "stream",
          "text": [
            "> \u001b[0;32m<ipython-input-135-bbe3f1b50c47>\u001b[0m(6)\u001b[0;36madd_to_ten\u001b[0;34m()\u001b[0m\n",
            "\u001b[0;32m      4 \u001b[0;31m    \u001b[0mresult\u001b[0m \u001b[0;34m=\u001b[0m \u001b[0mnum\u001b[0m \u001b[0;34m+\u001b[0m \u001b[0;36m10\u001b[0m\u001b[0;34m\u001b[0m\u001b[0;34m\u001b[0m\u001b[0m\n",
            "\u001b[0m\u001b[0;32m      5 \u001b[0;31m    \u001b[0mpdb\u001b[0m\u001b[0;34m.\u001b[0m\u001b[0mset_trace\u001b[0m\u001b[0;34m(\u001b[0m\u001b[0;34m)\u001b[0m  \u001b[0;31m# 디버거를 실행합니다. break 포인트입니다.\u001b[0m\u001b[0;34m\u001b[0m\u001b[0;34m\u001b[0m\u001b[0m\n",
            "\u001b[0m\u001b[0;32m----> 6 \u001b[0;31m    \u001b[0;32mreturn\u001b[0m \u001b[0mresult\u001b[0m\u001b[0;34m\u001b[0m\u001b[0;34m\u001b[0m\u001b[0m\n",
            "\u001b[0m\u001b[0;32m      7 \u001b[0;31m\u001b[0;34m\u001b[0m\u001b[0m\n",
            "\u001b[0m\u001b[0;32m      8 \u001b[0;31m\u001b[0madd_to_ten\u001b[0m\u001b[0;34m(\u001b[0m\u001b[0;36m5\u001b[0m\u001b[0;34m)\u001b[0m\u001b[0;34m\u001b[0m\u001b[0;34m\u001b[0m\u001b[0m\n",
            "\u001b[0m\n",
            "ipdb> n\n",
            "--Return--\n",
            "15\n",
            "> \u001b[0;32m<ipython-input-135-bbe3f1b50c47>\u001b[0m(6)\u001b[0;36madd_to_ten\u001b[0;34m()\u001b[0m\n",
            "\u001b[0;32m      4 \u001b[0;31m    \u001b[0mresult\u001b[0m \u001b[0;34m=\u001b[0m \u001b[0mnum\u001b[0m \u001b[0;34m+\u001b[0m \u001b[0;36m10\u001b[0m\u001b[0;34m\u001b[0m\u001b[0;34m\u001b[0m\u001b[0m\n",
            "\u001b[0m\u001b[0;32m      5 \u001b[0;31m    \u001b[0mpdb\u001b[0m\u001b[0;34m.\u001b[0m\u001b[0mset_trace\u001b[0m\u001b[0;34m(\u001b[0m\u001b[0;34m)\u001b[0m  \u001b[0;31m# 디버거를 실행합니다. break 포인트입니다.\u001b[0m\u001b[0;34m\u001b[0m\u001b[0;34m\u001b[0m\u001b[0m\n",
            "\u001b[0m\u001b[0;32m----> 6 \u001b[0;31m    \u001b[0;32mreturn\u001b[0m \u001b[0mresult\u001b[0m\u001b[0;34m\u001b[0m\u001b[0;34m\u001b[0m\u001b[0m\n",
            "\u001b[0m\u001b[0;32m      7 \u001b[0;31m\u001b[0;34m\u001b[0m\u001b[0m\n",
            "\u001b[0m\u001b[0;32m      8 \u001b[0;31m\u001b[0madd_to_ten\u001b[0m\u001b[0;34m(\u001b[0m\u001b[0;36m5\u001b[0m\u001b[0;34m)\u001b[0m\u001b[0;34m\u001b[0m\u001b[0;34m\u001b[0m\u001b[0m\n",
            "\u001b[0m\n",
            "ipdb> n\n",
            "--Call--\n",
            "> \u001b[0;32m/usr/local/lib/python3.10/dist-packages/IPython/core/displayhook.py\u001b[0m(252)\u001b[0;36m__call__\u001b[0;34m()\u001b[0m\n",
            "\u001b[0;32m    250 \u001b[0;31m        \u001b[0msys\u001b[0m\u001b[0;34m.\u001b[0m\u001b[0mstdout\u001b[0m\u001b[0;34m.\u001b[0m\u001b[0mflush\u001b[0m\u001b[0;34m(\u001b[0m\u001b[0;34m)\u001b[0m\u001b[0;34m\u001b[0m\u001b[0;34m\u001b[0m\u001b[0m\n",
            "\u001b[0m\u001b[0;32m    251 \u001b[0;31m\u001b[0;34m\u001b[0m\u001b[0m\n",
            "\u001b[0m\u001b[0;32m--> 252 \u001b[0;31m    \u001b[0;32mdef\u001b[0m \u001b[0m__call__\u001b[0m\u001b[0;34m(\u001b[0m\u001b[0mself\u001b[0m\u001b[0;34m,\u001b[0m \u001b[0mresult\u001b[0m\u001b[0;34m=\u001b[0m\u001b[0;32mNone\u001b[0m\u001b[0;34m)\u001b[0m\u001b[0;34m:\u001b[0m\u001b[0;34m\u001b[0m\u001b[0;34m\u001b[0m\u001b[0m\n",
            "\u001b[0m\u001b[0;32m    253 \u001b[0;31m        \"\"\"Printing with history cache management.\n",
            "\u001b[0m\u001b[0;32m    254 \u001b[0;31m\u001b[0;34m\u001b[0m\u001b[0m\n",
            "\u001b[0m\n",
            "ipdb> n\n",
            "> \u001b[0;32m/usr/local/lib/python3.10/dist-packages/IPython/core/displayhook.py\u001b[0m(258)\u001b[0;36m__call__\u001b[0;34m()\u001b[0m\n",
            "\u001b[0;32m    256 \u001b[0;31m        \u001b[0mactivated\u001b[0m \u001b[0mby\u001b[0m \u001b[0msetting\u001b[0m \u001b[0mthe\u001b[0m \u001b[0mvariable\u001b[0m \u001b[0msys\u001b[0m\u001b[0;34m.\u001b[0m\u001b[0mdisplayhook\u001b[0m \u001b[0mto\u001b[0m \u001b[0mit\u001b[0m\u001b[0;34m.\u001b[0m\u001b[0;34m\u001b[0m\u001b[0;34m\u001b[0m\u001b[0m\n",
            "\u001b[0m\u001b[0;32m    257 \u001b[0;31m        \"\"\"\n",
            "\u001b[0m\u001b[0;32m--> 258 \u001b[0;31m        \u001b[0mself\u001b[0m\u001b[0;34m.\u001b[0m\u001b[0mcheck_for_underscore\u001b[0m\u001b[0;34m(\u001b[0m\u001b[0;34m)\u001b[0m\u001b[0;34m\u001b[0m\u001b[0;34m\u001b[0m\u001b[0m\n",
            "\u001b[0m\u001b[0;32m    259 \u001b[0;31m        \u001b[0;32mif\u001b[0m \u001b[0mresult\u001b[0m \u001b[0;32mis\u001b[0m \u001b[0;32mnot\u001b[0m \u001b[0;32mNone\u001b[0m \u001b[0;32mand\u001b[0m \u001b[0;32mnot\u001b[0m \u001b[0mself\u001b[0m\u001b[0;34m.\u001b[0m\u001b[0mquiet\u001b[0m\u001b[0;34m(\u001b[0m\u001b[0;34m)\u001b[0m\u001b[0;34m:\u001b[0m\u001b[0;34m\u001b[0m\u001b[0;34m\u001b[0m\u001b[0m\n",
            "\u001b[0m\u001b[0;32m    260 \u001b[0;31m            \u001b[0mself\u001b[0m\u001b[0;34m.\u001b[0m\u001b[0mstart_displayhook\u001b[0m\u001b[0;34m(\u001b[0m\u001b[0;34m)\u001b[0m\u001b[0;34m\u001b[0m\u001b[0;34m\u001b[0m\u001b[0m\n",
            "\u001b[0m\n",
            "ipdb> n\n",
            "> \u001b[0;32m/usr/local/lib/python3.10/dist-packages/IPython/core/displayhook.py\u001b[0m(259)\u001b[0;36m__call__\u001b[0;34m()\u001b[0m\n",
            "\u001b[0;32m    257 \u001b[0;31m        \"\"\"\n",
            "\u001b[0m\u001b[0;32m    258 \u001b[0;31m        \u001b[0mself\u001b[0m\u001b[0;34m.\u001b[0m\u001b[0mcheck_for_underscore\u001b[0m\u001b[0;34m(\u001b[0m\u001b[0;34m)\u001b[0m\u001b[0;34m\u001b[0m\u001b[0;34m\u001b[0m\u001b[0m\n",
            "\u001b[0m\u001b[0;32m--> 259 \u001b[0;31m        \u001b[0;32mif\u001b[0m \u001b[0mresult\u001b[0m \u001b[0;32mis\u001b[0m \u001b[0;32mnot\u001b[0m \u001b[0;32mNone\u001b[0m \u001b[0;32mand\u001b[0m \u001b[0;32mnot\u001b[0m \u001b[0mself\u001b[0m\u001b[0;34m.\u001b[0m\u001b[0mquiet\u001b[0m\u001b[0;34m(\u001b[0m\u001b[0;34m)\u001b[0m\u001b[0;34m:\u001b[0m\u001b[0;34m\u001b[0m\u001b[0;34m\u001b[0m\u001b[0m\n",
            "\u001b[0m\u001b[0;32m    260 \u001b[0;31m            \u001b[0mself\u001b[0m\u001b[0;34m.\u001b[0m\u001b[0mstart_displayhook\u001b[0m\u001b[0;34m(\u001b[0m\u001b[0;34m)\u001b[0m\u001b[0;34m\u001b[0m\u001b[0;34m\u001b[0m\u001b[0m\n",
            "\u001b[0m\u001b[0;32m    261 \u001b[0;31m            \u001b[0mself\u001b[0m\u001b[0;34m.\u001b[0m\u001b[0mwrite_output_prompt\u001b[0m\u001b[0;34m(\u001b[0m\u001b[0;34m)\u001b[0m\u001b[0;34m\u001b[0m\u001b[0;34m\u001b[0m\u001b[0m\n",
            "\u001b[0m\n",
            "ipdb> q\n"
          ]
        },
        {
          "output_type": "stream",
          "name": "stderr",
          "text": [
            "\n",
            "PYDEV DEBUGGER WARNING:\n",
            "sys.settrace() should not be used when the debugger is being used.\n",
            "This may cause the debugger to stop working correctly.\n",
            "If this is needed, please check: \n",
            "http://pydev.blogspot.com/2007/06/why-cant-pydev-debugger-work-with.html\n",
            "to see how to restore the debug tracing back correctly.\n",
            "Call Location:\n",
            "  File \"/usr/lib/python3.10/bdb.py\", line 361, in set_quit\n",
            "    sys.settrace(None)\n",
            "\n"
          ]
        }
      ]
    },
    {
      "cell_type": "markdown",
      "source": [
        "# 정규표현식"
      ],
      "metadata": {
        "id": "IKjY-_HnKCPD"
      }
    },
    {
      "cell_type": "code",
      "source": [
        "result = []\n",
        "\n",
        "for i in '1S2D*3T':\n",
        "    if i.isdigit():\n",
        "        result.append(int(i))\n",
        "    elif i == 'S':\n",
        "        result[-1] **= 1\n",
        "    elif i == 'D':\n",
        "        result[-1] **= 2\n",
        "    elif i == 'T':\n",
        "        result[-1] **= 3\n",
        "    print(result)"
      ],
      "metadata": {
        "colab": {
          "base_uri": "https://localhost:8080/"
        },
        "id": "w437UKnALVSw",
        "outputId": "ae8893a9-6d45-40ad-e8c7-7c8fb7209318"
      },
      "execution_count": 139,
      "outputs": [
        {
          "output_type": "stream",
          "name": "stdout",
          "text": [
            "[1]\n",
            "[1]\n",
            "[1, 2]\n",
            "[1, 4]\n",
            "[1, 4]\n",
            "[1, 4, 3]\n",
            "[1, 4, 27]\n"
          ]
        }
      ]
    },
    {
      "cell_type": "code",
      "source": [
        "import re\n",
        "\n",
        "# 1\n",
        "p = re.compile(r'([0-9]|10)([SDT])([\\*\\#]?)')\n",
        "p.findall('1S2D*3T')\n",
        "\n",
        "# 2\n",
        "# re.findall(r'([0-9]|10)([SDT])([\\*\\#]?)', '1S2D*3T')"
      ],
      "metadata": {
        "id": "rbstlIIHBhiB",
        "colab": {
          "base_uri": "https://localhost:8080/"
        },
        "outputId": "99cf4c61-92a4-4c83-8383-f5296a9646db"
      },
      "execution_count": 140,
      "outputs": [
        {
          "output_type": "execute_result",
          "data": {
            "text/plain": [
              "[('1', 'S', ''), ('2', 'D', '*'), ('3', 'T', '')]"
            ]
          },
          "metadata": {},
          "execution_count": 140
        }
      ]
    },
    {
      "cell_type": "code",
      "source": [
        "import re\n",
        "\n",
        "p = re.compile(r'([0-9]|10)([SDT])([\\*\\#]?)')\n",
        "for 점수, 승수, 상 in p.findall('1S2D*3T'):\n",
        "    print(점수, 승수, 상)"
      ],
      "metadata": {
        "colab": {
          "base_uri": "https://localhost:8080/"
        },
        "id": "bc6o-RkbMJCa",
        "outputId": "9c852143-d796-4544-85de-e747c03b757a"
      },
      "execution_count": 141,
      "outputs": [
        {
          "output_type": "stream",
          "name": "stdout",
          "text": [
            "1 S \n",
            "2 D *\n",
            "3 T \n"
          ]
        }
      ]
    },
    {
      "cell_type": "markdown",
      "source": [
        "# collection"
      ],
      "metadata": {
        "id": "imX-WyIkOWpe"
      }
    },
    {
      "cell_type": "code",
      "source": [
        "from collections import deque\n",
        "\n",
        "d = deque()\n",
        "d.append('a')  # 오른쪽 끝에 추가\n",
        "d.appendleft('b')  # 왼쪽 끝에 추가\n",
        "d.pop()  # 오른쪽 끝 요소 제거\n",
        "d.popleft()  # 왼쪽 끝 요소 제거"
      ],
      "metadata": {
        "id": "Jk_fuIDDOaKx"
      },
      "execution_count": null,
      "outputs": []
    },
    {
      "cell_type": "code",
      "source": [
        "from collections import deque\n",
        "\n",
        "d = deque([1, 2, 3, 4, 5, 6])\n",
        "d.rotate(2)\n",
        "d\n",
        "\n",
        "# 회전초밥 문제, 동네한바퀴, 방송 시간 순서 정하기 문제"
      ],
      "metadata": {
        "colab": {
          "base_uri": "https://localhost:8080/"
        },
        "id": "cSdhQmO3OrZN",
        "outputId": "e18ce8fd-d723-445a-bf3e-6fb964c72a56"
      },
      "execution_count": 143,
      "outputs": [
        {
          "output_type": "execute_result",
          "data": {
            "text/plain": [
              "deque([5, 6, 1, 2, 3, 4])"
            ]
          },
          "metadata": {},
          "execution_count": 143
        }
      ]
    },
    {
      "cell_type": "code",
      "source": [
        "from collections import Counter\n",
        "\n",
        "c = Counter('hello world')\n",
        "print(c)\n",
        "print(c.most_common(2))\n",
        "print(c.most_common()[-1])"
      ],
      "metadata": {
        "colab": {
          "base_uri": "https://localhost:8080/"
        },
        "id": "xbDWiWbwO6vA",
        "outputId": "7694eda9-6fc4-4e1e-ad43-48f0d7e4ed87"
      },
      "execution_count": 146,
      "outputs": [
        {
          "output_type": "stream",
          "name": "stdout",
          "text": [
            "Counter({'l': 3, 'o': 2, 'h': 1, 'e': 1, ' ': 1, 'w': 1, 'r': 1, 'd': 1})\n",
            "[('l', 3), ('o', 2)]\n",
            "('d', 1)\n"
          ]
        }
      ]
    }
  ]
}